{
 "cells": [
  {
   "cell_type": "code",
   "execution_count": 49,
   "id": "42aab05a",
   "metadata": {},
   "outputs": [],
   "source": [
    "import pandas as pd\n",
    "import numpy as np\n",
    "import seaborn as sns\n",
    "import matplotlib.pyplot as plt\n",
    "import statsmodels.formula.api as sm\n",
    "import itertools\n",
    "import time\n",
    "from sklearn.linear_model import Ridge, RidgeCV, Lasso, LassoCV\n",
    "from sklearn.preprocessing import StandardScaler \n",
    "from sklearn.metrics import r2_score"
   ]
  },
  {
   "cell_type": "code",
   "execution_count": 50,
   "id": "0b3a2e88",
   "metadata": {},
   "outputs": [],
   "source": [
    "train05 = pd.read_csv('data/2005_data.csv')\n",
    "train10 = pd.read_csv('data/2010_data.csv')\n",
    "train15 = pd.read_csv('data/2015_data.csv')\n",
    "test = pd.read_csv('data/Other_test.csv')\n",
    "project_data = pd.read_csv('data/Project_Data.csv')\n",
    "\n",
    "# Resolving accidental impution error\n",
    "project_data.pct_female = project_data.pct_female.apply(lambda x: 50 if x == .5 else x)\n",
    "\n",
    "# Making the train data once again based on project data, because then when we transform data we don't\n",
    "# have to do it four times but can only transform the project_data file and the train data will change\n",
    "# accordingly. \n",
    "train05 = project_data.loc[project_data.Year == 2005]\n",
    "train10 = project_data.loc[project_data.Year == 2010]\n",
    "train15 = project_data.loc[project_data.Year == 2015]\n",
    "test = project_data.loc[project_data.Year == 2019]"
   ]
  },
  {
   "cell_type": "code",
   "execution_count": 51,
   "id": "53fb2276",
   "metadata": {},
   "outputs": [
    {
     "data": {
      "text/plain": [
       "Index(['Country', 'Alcohol_Consumption', 'GDP', 'Christian', 'Muslim',\n",
       "       'Irreligion', 'Hindu', 'Buddhist', 'Folk_religion', 'Other_religion',\n",
       "       'Jewish', 'Democracy', 'Education', 'Wine', 'Year', 'Depression',\n",
       "       'Homicides', 'Drug_deaths_per_100,000', 'Median_age', 'Population',\n",
       "       'conflict_deaths', 'deaths_to_pop_rate', 'elec_acc_pct_pop',\n",
       "       'Urban_population', 'Rural_population', 'pct_female', 'urban_pop_share',\n",
       "       'suicide_death_rate'],\n",
       "      dtype='object')"
      ]
     },
     "execution_count": 51,
     "metadata": {},
     "output_type": "execute_result"
    }
   ],
   "source": [
    "train05.columns"
   ]
  },
  {
   "cell_type": "markdown",
   "id": "71762dd5",
   "metadata": {},
   "source": [
    "### Population?\n",
    "\n",
    "Ultimately I think population is just good to scale the other factors, rather than being a predictor itself. The model shows a severe lack in any possible amount of correlation in the factors, even when taking all the outliers out"
   ]
  },
  {
   "cell_type": "code",
   "execution_count": 52,
   "id": "cf281447",
   "metadata": {},
   "outputs": [
    {
     "data": {
      "text/plain": [
       "<AxesSubplot:xlabel='Population', ylabel='Alcohol_Consumption'>"
      ]
     },
     "execution_count": 52,
     "metadata": {},
     "output_type": "execute_result"
    },
    {
     "data": {
      "image/png": "[encoded data removed]",
      "text/plain": [
       "<Figure size 432x288 with 1 Axes>"
      ]
     },
     "metadata": {
      "needs_background": "light"
     },
     "output_type": "display_data"
    }
   ],
   "source": [
    "sns.scatterplot(x = train05.Population[train05.Population < 5000000], y = train05.Alcohol_Consumption[train05.Population < 5000000])"
   ]
  },
  {
   "cell_type": "code",
   "execution_count": 53,
   "id": "f1d59cfd",
   "metadata": {},
   "outputs": [
    {
     "data": {
      "text/html": [
       "<table class=\"simpletable\">\n",
       "<caption>OLS Regression Results</caption>\n",
       "<tr>\n",
       "  <th>Dep. Variable:</th>    <td>Alcohol_Consumption</td> <th>  R-squared:         </th> <td>   0.021</td>\n",
       "</tr>\n",
       "<tr>\n",
       "  <th>Model:</th>                    <td>OLS</td>         <th>  Adj. R-squared:    </th> <td>   0.008</td>\n",
       "</tr>\n",
       "<tr>\n",
       "  <th>Method:</th>              <td>Least Squares</td>    <th>  F-statistic:       </th> <td>   1.625</td>\n",
       "</tr>\n",
       "<tr>\n",
       "  <th>Date:</th>              <td>Sat, 04 Mar 2023</td>   <th>  Prob (F-statistic):</th>  <td> 0.206</td> \n",
       "</tr>\n",
       "<tr>\n",
       "  <th>Time:</th>                  <td>11:24:04</td>       <th>  Log-Likelihood:    </th> <td> -219.60</td>\n",
       "</tr>\n",
       "<tr>\n",
       "  <th>No. Observations:</th>       <td>    77</td>        <th>  AIC:               </th> <td>   443.2</td>\n",
       "</tr>\n",
       "<tr>\n",
       "  <th>Df Residuals:</th>           <td>    75</td>        <th>  BIC:               </th> <td>   447.9</td>\n",
       "</tr>\n",
       "<tr>\n",
       "  <th>Df Model:</th>               <td>     1</td>        <th>                     </th>     <td> </td>   \n",
       "</tr>\n",
       "<tr>\n",
       "  <th>Covariance Type:</th>       <td>nonrobust</td>      <th>                     </th>     <td> </td>   \n",
       "</tr>\n",
       "</table>\n",
       "<table class=\"simpletable\">\n",
       "<tr>\n",
       "       <td></td>         <th>coef</th>     <th>std err</th>      <th>t</th>      <th>P>|t|</th>  <th>[0.025</th>    <th>0.975]</th>  \n",
       "</tr>\n",
       "<tr>\n",
       "  <th>Intercept</th>  <td>    5.3747</td> <td>    0.722</td> <td>    7.449</td> <td> 0.000</td> <td>    3.937</td> <td>    6.812</td>\n",
       "</tr>\n",
       "<tr>\n",
       "  <th>Population</th> <td> 3.996e-07</td> <td> 3.13e-07</td> <td>    1.275</td> <td> 0.206</td> <td>-2.25e-07</td> <td> 1.02e-06</td>\n",
       "</tr>\n",
       "</table>\n",
       "<table class=\"simpletable\">\n",
       "<tr>\n",
       "  <th>Omnibus:</th>       <td> 7.634</td> <th>  Durbin-Watson:     </th> <td>   2.140</td>\n",
       "</tr>\n",
       "<tr>\n",
       "  <th>Prob(Omnibus):</th> <td> 0.022</td> <th>  Jarque-Bera (JB):  </th> <td>   7.508</td>\n",
       "</tr>\n",
       "<tr>\n",
       "  <th>Skew:</th>          <td> 0.762</td> <th>  Prob(JB):          </th> <td>  0.0234</td>\n",
       "</tr>\n",
       "<tr>\n",
       "  <th>Kurtosis:</th>      <td> 3.142</td> <th>  Cond. No.          </th> <td>3.43e+06</td>\n",
       "</tr>\n",
       "</table><br/><br/>Notes:<br/>[1] Standard Errors assume that the covariance matrix of the errors is correctly specified.<br/>[2] The condition number is large, 3.43e+06. This might indicate that there are<br/>strong multicollinearity or other numerical problems."
      ],
      "text/plain": [
       "<class 'statsmodels.iolib.summary.Summary'>\n",
       "\"\"\"\n",
       "                             OLS Regression Results                            \n",
       "===============================================================================\n",
       "Dep. Variable:     Alcohol_Consumption   R-squared:                       0.021\n",
       "Model:                             OLS   Adj. R-squared:                  0.008\n",
       "Method:                  Least Squares   F-statistic:                     1.625\n",
       "Date:                 Sat, 04 Mar 2023   Prob (F-statistic):              0.206\n",
       "Time:                         11:24:04   Log-Likelihood:                -219.60\n",
       "No. Observations:                   77   AIC:                             443.2\n",
       "Df Residuals:                       75   BIC:                             447.9\n",
       "Df Model:                            1                                         \n",
       "Covariance Type:             nonrobust                                         \n",
       "==============================================================================\n",
       "                 coef    std err          t      P>|t|      [0.025      0.975]\n",
       "------------------------------------------------------------------------------\n",
       "Intercept      5.3747      0.722      7.449      0.000       3.937       6.812\n",
       "Population  3.996e-07   3.13e-07      1.275      0.206   -2.25e-07    1.02e-06\n",
       "==============================================================================\n",
       "Omnibus:                        7.634   Durbin-Watson:                   2.140\n",
       "Prob(Omnibus):                  0.022   Jarque-Bera (JB):                7.508\n",
       "Skew:                           0.762   Prob(JB):                       0.0234\n",
       "Kurtosis:                       3.142   Cond. No.                     3.43e+06\n",
       "==============================================================================\n",
       "\n",
       "Notes:\n",
       "[1] Standard Errors assume that the covariance matrix of the errors is correctly specified.\n",
       "[2] The condition number is large, 3.43e+06. This might indicate that there are\n",
       "strong multicollinearity or other numerical problems.\n",
       "\"\"\""
      ]
     },
     "execution_count": 53,
     "metadata": {},
     "output_type": "execute_result"
    },
    {
     "data": {
      "image/png": "[encoded data removed]",
      "text/plain": [
       "<Figure size 432x288 with 1 Axes>"
      ]
     },
     "metadata": {
      "needs_background": "light"
     },
     "output_type": "display_data"
    }
   ],
   "source": [
    "something = train05.loc[train05.Population < 5000000]\n",
    "model = sm.ols('Alcohol_Consumption ~ Population', something).fit()\n",
    "sns.scatterplot(x = model.fittedvalues, y = model.resid, color = 'orange')\n",
    "sns.lineplot(x = [model.fittedvalues.min(), model.fittedvalues.max()], y = [0,0])\n",
    "model.summary()"
   ]
  },
  {
   "cell_type": "markdown",
   "id": "02a81dd3",
   "metadata": {},
   "source": [
    "### Elec_acc_pct_pop doesn't have a very good relationship. \n",
    "Knowing electricity access doesn't tell you anything about the alcohol consumption, regardless of what transformation you use or how much data you take out"
   ]
  },
  {
   "cell_type": "code",
   "execution_count": 54,
   "id": "7d639a76",
   "metadata": {},
   "outputs": [
    {
     "data": {
      "text/plain": [
       "<AxesSubplot:xlabel='elec_acc_pct_pop', ylabel='Alcohol_Consumption'>"
      ]
     },
     "execution_count": 54,
     "metadata": {},
     "output_type": "execute_result"
    },
    {
     "data": {
      "image/png": "[encoded data removed]",
      "text/plain": [
       "<Figure size 432x288 with 1 Axes>"
      ]
     },
     "metadata": {
      "needs_background": "light"
     },
     "output_type": "display_data"
    }
   ],
   "source": [
    "sns.scatterplot(x = train05.elec_acc_pct_pop[train05.elec_acc_pct_pop < 95], y = train05.Alcohol_Consumption[train05.elec_acc_pct_pop < 95])"
   ]
  },
  {
   "cell_type": "code",
   "execution_count": 55,
   "id": "e75c5da1",
   "metadata": {},
   "outputs": [
    {
     "data": {
      "text/plain": [
       "<AxesSubplot:>"
      ]
     },
     "execution_count": 55,
     "metadata": {},
     "output_type": "execute_result"
    },
    {
     "data": {
      "image/png": "[encoded data removed]",
      "text/plain": [
       "<Figure size 432x288 with 1 Axes>"
      ]
     },
     "metadata": {
      "needs_background": "light"
     },
     "output_type": "display_data"
    }
   ],
   "source": [
    "model = sm.ols('Alcohol_Consumption ~ elec_acc_pct_pop', train05).fit()\n",
    "sns.scatterplot(x = model.fittedvalues, y = model.resid, color = 'orange')\n",
    "sns.lineplot(x = [model.fittedvalues.min(), model.fittedvalues.max()], y = [0,0])"
   ]
  },
  {
   "cell_type": "markdown",
   "id": "969f181a",
   "metadata": {},
   "source": [
    "### Death rate is also very miniscule, \n",
    "basically no relationship between death rate and alcohol consumption. Ultimately I think we just have too many 0 values for it to really matter. As such, I will try turning death rate into a categorical variable, with a 0 for if there are 0 deaths from conflict, and a 1 if there is any. Ultimately, however, I think confl"
   ]
  },
  {
   "cell_type": "code",
   "execution_count": 56,
   "id": "3271ea5c",
   "metadata": {},
   "outputs": [
    {
     "data": {
      "text/plain": [
       "96"
      ]
     },
     "execution_count": 56,
     "metadata": {},
     "output_type": "execute_result"
    }
   ],
   "source": [
    "(train05.deaths_to_pop_rate*train05.Population == 0).sum()"
   ]
  },
  {
   "cell_type": "code",
   "execution_count": 57,
   "id": "77f341ae",
   "metadata": {},
   "outputs": [
    {
     "name": "stderr",
     "output_type": "stream",
     "text": [
      "/var/folders/gj/dmpwn9tn61zc1kpc9wx2dcsc0000gn/T/ipykernel_16118/2030331435.py:1: SettingWithCopyWarning: \n",
      "A value is trying to be set on a copy of a slice from a DataFrame.\n",
      "Try using .loc[row_indexer,col_indexer] = value instead\n",
      "\n",
      "See the caveats in the documentation: https://pandas.pydata.org/pandas-docs/stable/user_guide/indexing.html#returning-a-view-versus-a-copy\n",
      "  train05['conflict_deaths_cat'] = train05.conflict_deaths.apply(lambda x: 0 if x == 0 else 1)\n"
     ]
    }
   ],
   "source": [
    "train05['conflict_deaths_cat'] = train05.conflict_deaths.apply(lambda x: 0 if x == 0 else 1)"
   ]
  },
  {
   "cell_type": "code",
   "execution_count": 58,
   "id": "a399b302",
   "metadata": {},
   "outputs": [
    {
     "data": {
      "text/html": [
       "<table class=\"simpletable\">\n",
       "<caption>OLS Regression Results</caption>\n",
       "<tr>\n",
       "  <th>Dep. Variable:</th>    <td>Alcohol_Consumption</td> <th>  R-squared:         </th> <td>   0.049</td>\n",
       "</tr>\n",
       "<tr>\n",
       "  <th>Model:</th>                    <td>OLS</td>         <th>  Adj. R-squared:    </th> <td>   0.043</td>\n",
       "</tr>\n",
       "<tr>\n",
       "  <th>Method:</th>              <td>Least Squares</td>    <th>  F-statistic:       </th> <td>   9.488</td>\n",
       "</tr>\n",
       "<tr>\n",
       "  <th>Date:</th>              <td>Sat, 04 Mar 2023</td>   <th>  Prob (F-statistic):</th>  <td>0.00238</td>\n",
       "</tr>\n",
       "<tr>\n",
       "  <th>Time:</th>                  <td>11:24:05</td>       <th>  Log-Likelihood:    </th> <td> -547.69</td>\n",
       "</tr>\n",
       "<tr>\n",
       "  <th>No. Observations:</th>       <td>   188</td>        <th>  AIC:               </th> <td>   1099.</td>\n",
       "</tr>\n",
       "<tr>\n",
       "  <th>Df Residuals:</th>           <td>   186</td>        <th>  BIC:               </th> <td>   1106.</td>\n",
       "</tr>\n",
       "<tr>\n",
       "  <th>Df Model:</th>               <td>     1</td>        <th>                     </th>     <td> </td>   \n",
       "</tr>\n",
       "<tr>\n",
       "  <th>Covariance Type:</th>       <td>nonrobust</td>      <th>                     </th>     <td> </td>   \n",
       "</tr>\n",
       "</table>\n",
       "<table class=\"simpletable\">\n",
       "<tr>\n",
       "           <td></td>              <th>coef</th>     <th>std err</th>      <th>t</th>      <th>P>|t|</th>  <th>[0.025</th>    <th>0.975]</th>  \n",
       "</tr>\n",
       "<tr>\n",
       "  <th>Intercept</th>           <td>    6.9530</td> <td>    0.457</td> <td>   15.206</td> <td> 0.000</td> <td>    6.051</td> <td>    7.855</td>\n",
       "</tr>\n",
       "<tr>\n",
       "  <th>conflict_deaths_cat</th> <td>   -2.0133</td> <td>    0.654</td> <td>   -3.080</td> <td> 0.002</td> <td>   -3.303</td> <td>   -0.724</td>\n",
       "</tr>\n",
       "</table>\n",
       "<table class=\"simpletable\">\n",
       "<tr>\n",
       "  <th>Omnibus:</th>       <td>14.207</td> <th>  Durbin-Watson:     </th> <td>   1.786</td>\n",
       "</tr>\n",
       "<tr>\n",
       "  <th>Prob(Omnibus):</th> <td> 0.001</td> <th>  Jarque-Bera (JB):  </th> <td>  15.019</td>\n",
       "</tr>\n",
       "<tr>\n",
       "  <th>Skew:</th>          <td> 0.657</td> <th>  Prob(JB):          </th> <td>0.000548</td>\n",
       "</tr>\n",
       "<tr>\n",
       "  <th>Kurtosis:</th>      <td> 2.564</td> <th>  Cond. No.          </th> <td>    2.59</td>\n",
       "</tr>\n",
       "</table><br/><br/>Notes:<br/>[1] Standard Errors assume that the covariance matrix of the errors is correctly specified."
      ],
      "text/plain": [
       "<class 'statsmodels.iolib.summary.Summary'>\n",
       "\"\"\"\n",
       "                             OLS Regression Results                            \n",
       "===============================================================================\n",
       "Dep. Variable:     Alcohol_Consumption   R-squared:                       0.049\n",
       "Model:                             OLS   Adj. R-squared:                  0.043\n",
       "Method:                  Least Squares   F-statistic:                     9.488\n",
       "Date:                 Sat, 04 Mar 2023   Prob (F-statistic):            0.00238\n",
       "Time:                         11:24:05   Log-Likelihood:                -547.69\n",
       "No. Observations:                  188   AIC:                             1099.\n",
       "Df Residuals:                      186   BIC:                             1106.\n",
       "Df Model:                            1                                         \n",
       "Covariance Type:             nonrobust                                         \n",
       "=======================================================================================\n",
       "                          coef    std err          t      P>|t|      [0.025      0.975]\n",
       "---------------------------------------------------------------------------------------\n",
       "Intercept               6.9530      0.457     15.206      0.000       6.051       7.855\n",
       "conflict_deaths_cat    -2.0133      0.654     -3.080      0.002      -3.303      -0.724\n",
       "==============================================================================\n",
       "Omnibus:                       14.207   Durbin-Watson:                   1.786\n",
       "Prob(Omnibus):                  0.001   Jarque-Bera (JB):               15.019\n",
       "Skew:                           0.657   Prob(JB):                     0.000548\n",
       "Kurtosis:                       2.564   Cond. No.                         2.59\n",
       "==============================================================================\n",
       "\n",
       "Notes:\n",
       "[1] Standard Errors assume that the covariance matrix of the errors is correctly specified.\n",
       "\"\"\""
      ]
     },
     "execution_count": 58,
     "metadata": {},
     "output_type": "execute_result"
    }
   ],
   "source": [
    "model = sm.ols('Alcohol_Consumption ~ conflict_deaths_cat', train05).fit()\n",
    "model.summary()"
   ]
  },
  {
   "cell_type": "markdown",
   "id": "2325d44b",
   "metadata": {},
   "source": [
    "### Median age doesn't have a bad relationship with alcohol consumption. It's likely the best we're going to get with real world data"
   ]
  },
  {
   "cell_type": "code",
   "execution_count": 59,
   "id": "bef9e737",
   "metadata": {},
   "outputs": [
    {
     "data": {
      "text/plain": [
       "Index(['Country', 'Alcohol_Consumption', 'GDP', 'Christian', 'Muslim',\n",
       "       'Irreligion', 'Hindu', 'Buddhist', 'Folk_religion', 'Other_religion',\n",
       "       'Jewish', 'Democracy', 'Education', 'Wine', 'Year', 'Depression',\n",
       "       'Homicides', 'Drug_deaths_per_100,000', 'Median_age', 'Population',\n",
       "       'conflict_deaths', 'deaths_to_pop_rate', 'elec_acc_pct_pop',\n",
       "       'Urban_population', 'Rural_population', 'pct_female', 'urban_pop_share',\n",
       "       'suicide_death_rate'],\n",
       "      dtype='object')"
      ]
     },
     "execution_count": 59,
     "metadata": {},
     "output_type": "execute_result"
    }
   ],
   "source": [
    "project_data.columns"
   ]
  },
  {
   "cell_type": "code",
   "execution_count": 60,
   "id": "b034380d",
   "metadata": {},
   "outputs": [
    {
     "data": {
      "text/plain": [
       "<AxesSubplot:xlabel='Median_age', ylabel='Alcohol_Consumption'>"
      ]
     },
     "execution_count": 60,
     "metadata": {},
     "output_type": "execute_result"
    },
    {
     "data": {
      "image/png": "[encoded data removed]",
      "text/plain": [
       "<Figure size 432x288 with 1 Axes>"
      ]
     },
     "metadata": {
      "needs_background": "light"
     },
     "output_type": "display_data"
    }
   ],
   "source": [
    "sns.scatterplot(x = train05.Median_age, y = train05.Alcohol_Consumption)"
   ]
  },
  {
   "cell_type": "code",
   "execution_count": 61,
   "id": "cb62e529",
   "metadata": {},
   "outputs": [
    {
     "data": {
      "text/plain": [
       "<AxesSubplot:>"
      ]
     },
     "execution_count": 61,
     "metadata": {},
     "output_type": "execute_result"
    },
    {
     "data": {
      "image/png": "[encoded data removed]",
      "text/plain": [
       "<Figure size 432x288 with 1 Axes>"
      ]
     },
     "metadata": {
      "needs_background": "light"
     },
     "output_type": "display_data"
    }
   ],
   "source": [
    "model = sm.ols('Alcohol_Consumption ~ Median_age', data = train05).fit()\n",
    "sns.scatterplot(x = model.fittedvalues, y = model.resid, color = 'orange')\n",
    "sns.lineplot(x = [model.fittedvalues.min(), model.fittedvalues.max()], y = [0,0])"
   ]
  },
  {
   "cell_type": "markdown",
   "id": "672bd5ba",
   "metadata": {},
   "source": [
    "### drug_deaths_per_100000 also doesn't seem to have any correlation\n",
    "Scatterplot kinda looks like it has a log relationship, so we will try that in the data, which shows, considering it's real world data, a pretty good fit to the scatterplot"
   ]
  },
  {
   "cell_type": "code",
   "execution_count": 62,
   "id": "bff1edb6",
   "metadata": {},
   "outputs": [
    {
     "name": "stderr",
     "output_type": "stream",
     "text": [
      "/var/folders/gj/dmpwn9tn61zc1kpc9wx2dcsc0000gn/T/ipykernel_16118/2478132022.py:1: SettingWithCopyWarning: \n",
      "A value is trying to be set on a copy of a slice from a DataFrame\n",
      "\n",
      "See the caveats in the documentation: https://pandas.pydata.org/pandas-docs/stable/user_guide/indexing.html#returning-a-view-versus-a-copy\n",
      "  train05.rename(columns = {'Drug_deaths_per_100,000': 'drug_deaths_per_100000'}, inplace = True)\n"
     ]
    }
   ],
   "source": [
    "train05.rename(columns = {'Drug_deaths_per_100,000': 'drug_deaths_per_100000'}, inplace = True)"
   ]
  },
  {
   "cell_type": "code",
   "execution_count": 63,
   "id": "611ae6a1",
   "metadata": {},
   "outputs": [
    {
     "data": {
      "text/plain": [
       "<AxesSubplot:xlabel='drug_deaths_per_100000', ylabel='Alcohol_Consumption'>"
      ]
     },
     "execution_count": 63,
     "metadata": {},
     "output_type": "execute_result"
    },
    {
     "data": {
      "image/png": "[encoded data removed]",
      "text/plain": [
       "<Figure size 432x288 with 1 Axes>"
      ]
     },
     "metadata": {
      "needs_background": "light"
     },
     "output_type": "display_data"
    }
   ],
   "source": [
    "sns.scatterplot(x = train05['drug_deaths_per_100000'], y = train05.Alcohol_Consumption)"
   ]
  },
  {
   "cell_type": "code",
   "execution_count": 64,
   "id": "b31a3607",
   "metadata": {},
   "outputs": [
    {
     "data": {
      "text/plain": [
       "<AxesSubplot:>"
      ]
     },
     "execution_count": 64,
     "metadata": {},
     "output_type": "execute_result"
    },
    {
     "data": {
      "image/png": "[encoded data removed]",
      "text/plain": [
       "<Figure size 432x288 with 1 Axes>"
      ]
     },
     "metadata": {
      "needs_background": "light"
     },
     "output_type": "display_data"
    }
   ],
   "source": [
    "model = sm.ols('Alcohol_Consumption ~ np.log(drug_deaths_per_100000)', train05).fit()\n",
    "sns.scatterplot(x = model.fittedvalues, y = model.resid, color = 'orange')\n",
    "sns.lineplot(x = [model.fittedvalues.min(), model.fittedvalues.max()], y = [0,0])\n"
   ]
  },
  {
   "cell_type": "code",
   "execution_count": 65,
   "id": "0f659909",
   "metadata": {},
   "outputs": [
    {
     "data": {
      "text/plain": [
       "<AxesSubplot:xlabel='drug_deaths_per_100000', ylabel='Alcohol_Consumption'>"
      ]
     },
     "execution_count": 65,
     "metadata": {},
     "output_type": "execute_result"
    },
    {
     "data": {
      "image/png": "[encoded data removed]",
      "text/plain": [
       "<Figure size 432x288 with 1 Axes>"
      ]
     },
     "metadata": {
      "needs_background": "light"
     },
     "output_type": "display_data"
    }
   ],
   "source": [
    "sns.scatterplot(x = np.log(train05['drug_deaths_per_100000']), y = train05.Alcohol_Consumption, color = 'orange')\n",
    "sns.lineplot(x = np.log(train05['drug_deaths_per_100000']), y = model.params['np.log(drug_deaths_per_100000)']*train05['drug_deaths_per_100000'] + model.params['Intercept'])"
   ]
  },
  {
   "cell_type": "code",
   "execution_count": 66,
   "id": "b3665993",
   "metadata": {},
   "outputs": [
    {
     "data": {
      "text/plain": [
       "0.38284582140592743"
      ]
     },
     "execution_count": 66,
     "metadata": {},
     "output_type": "execute_result"
    }
   ],
   "source": [
    "#check correlation before: 0.38\n",
    "\n",
    "#and after log transformation\n",
    "\n",
    "corr_after = train05['Alcohol_Consumption'].corr(np.log(train05['drug_deaths_per_100000']))\n",
    "corr_after"
   ]
  },
  {
   "cell_type": "markdown",
   "id": "2b482748",
   "metadata": {},
   "source": [
    "### pct_female \n",
    "pct_female appears like it could possibly have a positive correlation, however, it isn't completely clear how we could transform the data so it would better fit. The model doesn't appear to be too bad. It is evident, however, that there isn't really any other transformation we could do to fit the data better. If we are to use pct_female as a predictor, however, we would need to get rid of the outlying observations as all other countries are so close to 50% that any observation less than 45 is an extreme outlier that severely affects our fit"
   ]
  },
  {
   "cell_type": "code",
   "execution_count": 67,
   "id": "b15ba8fe",
   "metadata": {},
   "outputs": [
    {
     "data": {
      "text/html": [
       "<div>\n",
       "<style scoped>\n",
       "    .dataframe tbody tr th:only-of-type {\n",
       "        vertical-align: middle;\n",
       "    }\n",
       "\n",
       "    .dataframe tbody tr th {\n",
       "        vertical-align: top;\n",
       "    }\n",
       "\n",
       "    .dataframe thead th {\n",
       "        text-align: right;\n",
       "    }\n",
       "</style>\n",
       "<table border=\"1\" class=\"dataframe\">\n",
       "  <thead>\n",
       "    <tr style=\"text-align: right;\">\n",
       "      <th></th>\n",
       "      <th>Country</th>\n",
       "      <th>Alcohol_Consumption</th>\n",
       "      <th>GDP</th>\n",
       "      <th>Christian</th>\n",
       "      <th>Muslim</th>\n",
       "      <th>Irreligion</th>\n",
       "      <th>Hindu</th>\n",
       "      <th>Buddhist</th>\n",
       "      <th>Folk_religion</th>\n",
       "      <th>Other_religion</th>\n",
       "      <th>...</th>\n",
       "      <th>Population</th>\n",
       "      <th>conflict_deaths</th>\n",
       "      <th>deaths_to_pop_rate</th>\n",
       "      <th>elec_acc_pct_pop</th>\n",
       "      <th>Urban_population</th>\n",
       "      <th>Rural_population</th>\n",
       "      <th>pct_female</th>\n",
       "      <th>urban_pop_share</th>\n",
       "      <th>suicide_death_rate</th>\n",
       "      <th>conflict_deaths_cat</th>\n",
       "    </tr>\n",
       "  </thead>\n",
       "  <tbody>\n",
       "    <tr>\n",
       "      <th>12</th>\n",
       "      <td>Bahrain</td>\n",
       "      <td>1.76</td>\n",
       "      <td>22343.54</td>\n",
       "      <td>14.5</td>\n",
       "      <td>70.3</td>\n",
       "      <td>1.9</td>\n",
       "      <td>9.8</td>\n",
       "      <td>2.5</td>\n",
       "      <td>0.0</td>\n",
       "      <td>0.2</td>\n",
       "      <td>...</td>\n",
       "      <td>901928.0</td>\n",
       "      <td>0.0</td>\n",
       "      <td>0.000000</td>\n",
       "      <td>100.0</td>\n",
       "      <td>786210.0</td>\n",
       "      <td>102947.0</td>\n",
       "      <td>39.927368</td>\n",
       "      <td>88.42</td>\n",
       "      <td>8.5</td>\n",
       "      <td>0</td>\n",
       "    </tr>\n",
       "    <tr>\n",
       "      <th>89</th>\n",
       "      <td>Kuwait</td>\n",
       "      <td>0.02</td>\n",
       "      <td>39849.60</td>\n",
       "      <td>14.3</td>\n",
       "      <td>74.1</td>\n",
       "      <td>0.0</td>\n",
       "      <td>8.5</td>\n",
       "      <td>2.8</td>\n",
       "      <td>0.0</td>\n",
       "      <td>0.3</td>\n",
       "      <td>...</td>\n",
       "      <td>2235409.0</td>\n",
       "      <td>12.0</td>\n",
       "      <td>0.000005</td>\n",
       "      <td>100.0</td>\n",
       "      <td>2270196.0</td>\n",
       "      <td>0.0</td>\n",
       "      <td>40.953335</td>\n",
       "      <td>100.00</td>\n",
       "      <td>3.3</td>\n",
       "      <td>1</td>\n",
       "    </tr>\n",
       "    <tr>\n",
       "      <th>126</th>\n",
       "      <td>Oman</td>\n",
       "      <td>1.56</td>\n",
       "      <td>19448.46</td>\n",
       "      <td>6.5</td>\n",
       "      <td>85.9</td>\n",
       "      <td>0.2</td>\n",
       "      <td>5.5</td>\n",
       "      <td>0.8</td>\n",
       "      <td>0.0</td>\n",
       "      <td>1.0</td>\n",
       "      <td>...</td>\n",
       "      <td>2515202.0</td>\n",
       "      <td>0.0</td>\n",
       "      <td>0.000000</td>\n",
       "      <td>100.0</td>\n",
       "      <td>1818148.0</td>\n",
       "      <td>693106.0</td>\n",
       "      <td>43.440567</td>\n",
       "      <td>72.40</td>\n",
       "      <td>3.8</td>\n",
       "      <td>0</td>\n",
       "    </tr>\n",
       "    <tr>\n",
       "      <th>135</th>\n",
       "      <td>Qatar</td>\n",
       "      <td>1.67</td>\n",
       "      <td>57624.13</td>\n",
       "      <td>14.2</td>\n",
       "      <td>65.5</td>\n",
       "      <td>0.9</td>\n",
       "      <td>15.1</td>\n",
       "      <td>3.1</td>\n",
       "      <td>0.0</td>\n",
       "      <td>0.7</td>\n",
       "      <td>...</td>\n",
       "      <td>848718.0</td>\n",
       "      <td>2.0</td>\n",
       "      <td>0.000002</td>\n",
       "      <td>100.0</td>\n",
       "      <td>842875.0</td>\n",
       "      <td>22535.0</td>\n",
       "      <td>32.442890</td>\n",
       "      <td>97.40</td>\n",
       "      <td>5.5</td>\n",
       "      <td>1</td>\n",
       "    </tr>\n",
       "    <tr>\n",
       "      <th>144</th>\n",
       "      <td>Saudi Arabia</td>\n",
       "      <td>0.17</td>\n",
       "      <td>18683.38</td>\n",
       "      <td>4.4</td>\n",
       "      <td>93.0</td>\n",
       "      <td>0.7</td>\n",
       "      <td>1.1</td>\n",
       "      <td>0.3</td>\n",
       "      <td>0.3</td>\n",
       "      <td>0.3</td>\n",
       "      <td>...</td>\n",
       "      <td>24397652.0</td>\n",
       "      <td>32.0</td>\n",
       "      <td>0.000001</td>\n",
       "      <td>100.0</td>\n",
       "      <td>19286100.0</td>\n",
       "      <td>4530075.0</td>\n",
       "      <td>44.319687</td>\n",
       "      <td>80.98</td>\n",
       "      <td>3.2</td>\n",
       "      <td>1</td>\n",
       "    </tr>\n",
       "    <tr>\n",
       "      <th>176</th>\n",
       "      <td>United Arab Emirates</td>\n",
       "      <td>3.64</td>\n",
       "      <td>53844.72</td>\n",
       "      <td>14.0</td>\n",
       "      <td>70.0</td>\n",
       "      <td>1.1</td>\n",
       "      <td>10.0</td>\n",
       "      <td>2.0</td>\n",
       "      <td>0.0</td>\n",
       "      <td>0.8</td>\n",
       "      <td>...</td>\n",
       "      <td>4280995.0</td>\n",
       "      <td>0.0</td>\n",
       "      <td>0.000000</td>\n",
       "      <td>100.0</td>\n",
       "      <td>3774363.0</td>\n",
       "      <td>813859.0</td>\n",
       "      <td>29.613279</td>\n",
       "      <td>82.26</td>\n",
       "      <td>6.1</td>\n",
       "      <td>0</td>\n",
       "    </tr>\n",
       "  </tbody>\n",
       "</table>\n",
       "<p>6 rows × 29 columns</p>\n",
       "</div>"
      ],
      "text/plain": [
       "                  Country  Alcohol_Consumption       GDP  Christian  Muslim  \\\n",
       "12                Bahrain                 1.76  22343.54       14.5    70.3   \n",
       "89                 Kuwait                 0.02  39849.60       14.3    74.1   \n",
       "126                  Oman                 1.56  19448.46        6.5    85.9   \n",
       "135                 Qatar                 1.67  57624.13       14.2    65.5   \n",
       "144          Saudi Arabia                 0.17  18683.38        4.4    93.0   \n",
       "176  United Arab Emirates                 3.64  53844.72       14.0    70.0   \n",
       "\n",
       "     Irreligion  Hindu  Buddhist  Folk_religion  Other_religion  ...  \\\n",
       "12          1.9    9.8       2.5            0.0             0.2  ...   \n",
       "89          0.0    8.5       2.8            0.0             0.3  ...   \n",
       "126         0.2    5.5       0.8            0.0             1.0  ...   \n",
       "135         0.9   15.1       3.1            0.0             0.7  ...   \n",
       "144         0.7    1.1       0.3            0.3             0.3  ...   \n",
       "176         1.1   10.0       2.0            0.0             0.8  ...   \n",
       "\n",
       "     Population  conflict_deaths  deaths_to_pop_rate  elec_acc_pct_pop  \\\n",
       "12     901928.0              0.0            0.000000             100.0   \n",
       "89    2235409.0             12.0            0.000005             100.0   \n",
       "126   2515202.0              0.0            0.000000             100.0   \n",
       "135    848718.0              2.0            0.000002             100.0   \n",
       "144  24397652.0             32.0            0.000001             100.0   \n",
       "176   4280995.0              0.0            0.000000             100.0   \n",
       "\n",
       "     Urban_population  Rural_population  pct_female  urban_pop_share  \\\n",
       "12           786210.0          102947.0   39.927368            88.42   \n",
       "89          2270196.0               0.0   40.953335           100.00   \n",
       "126         1818148.0          693106.0   43.440567            72.40   \n",
       "135          842875.0           22535.0   32.442890            97.40   \n",
       "144        19286100.0         4530075.0   44.319687            80.98   \n",
       "176         3774363.0          813859.0   29.613279            82.26   \n",
       "\n",
       "     suicide_death_rate  conflict_deaths_cat  \n",
       "12                  8.5                    0  \n",
       "89                  3.3                    1  \n",
       "126                 3.8                    0  \n",
       "135                 5.5                    1  \n",
       "144                 3.2                    1  \n",
       "176                 6.1                    0  \n",
       "\n",
       "[6 rows x 29 columns]"
      ]
     },
     "execution_count": 67,
     "metadata": {},
     "output_type": "execute_result"
    }
   ],
   "source": [
    "possible = train05.loc[train05.pct_female > 45]\n",
    "# Looking at the weird observations and seeing what country they are\n",
    "train05.loc[train05.pct_female < 45]"
   ]
  },
  {
   "cell_type": "code",
   "execution_count": 68,
   "id": "6b5ba8fb",
   "metadata": {},
   "outputs": [
    {
     "data": {
      "text/plain": [
       "<AxesSubplot:>"
      ]
     },
     "execution_count": 68,
     "metadata": {},
     "output_type": "execute_result"
    },
    {
     "data": {
      "image/png": "[encoded data removed]",
      "text/plain": [
       "<Figure size 432x288 with 1 Axes>"
      ]
     },
     "metadata": {
      "needs_background": "light"
     },
     "output_type": "display_data"
    }
   ],
   "source": [
    "model = sm.ols('Alcohol_Consumption ~ pct_female', data = possible).fit()\n",
    "sns.scatterplot(x = model.fittedvalues, y = model.resid, color = 'orange')\n",
    "sns.lineplot(x = [model.fittedvalues.min(), model.fittedvalues.max()], y = [0,0])"
   ]
  },
  {
   "cell_type": "code",
   "execution_count": 69,
   "id": "0ccea0e8",
   "metadata": {},
   "outputs": [
    {
     "data": {
      "text/html": [
       "<table class=\"simpletable\">\n",
       "<caption>OLS Regression Results</caption>\n",
       "<tr>\n",
       "  <th>Dep. Variable:</th>    <td>Alcohol_Consumption</td> <th>  R-squared:         </th> <td>   0.228</td>\n",
       "</tr>\n",
       "<tr>\n",
       "  <th>Model:</th>                    <td>OLS</td>         <th>  Adj. R-squared:    </th> <td>   0.224</td>\n",
       "</tr>\n",
       "<tr>\n",
       "  <th>Method:</th>              <td>Least Squares</td>    <th>  F-statistic:       </th> <td>   53.30</td>\n",
       "</tr>\n",
       "<tr>\n",
       "  <th>Date:</th>              <td>Sat, 04 Mar 2023</td>   <th>  Prob (F-statistic):</th> <td>8.87e-12</td>\n",
       "</tr>\n",
       "<tr>\n",
       "  <th>Time:</th>                  <td>11:24:07</td>       <th>  Log-Likelihood:    </th> <td> -510.92</td>\n",
       "</tr>\n",
       "<tr>\n",
       "  <th>No. Observations:</th>       <td>   182</td>        <th>  AIC:               </th> <td>   1026.</td>\n",
       "</tr>\n",
       "<tr>\n",
       "  <th>Df Residuals:</th>           <td>   180</td>        <th>  BIC:               </th> <td>   1032.</td>\n",
       "</tr>\n",
       "<tr>\n",
       "  <th>Df Model:</th>               <td>     1</td>        <th>                     </th>     <td> </td>   \n",
       "</tr>\n",
       "<tr>\n",
       "  <th>Covariance Type:</th>       <td>nonrobust</td>      <th>                     </th>     <td> </td>   \n",
       "</tr>\n",
       "</table>\n",
       "<table class=\"simpletable\">\n",
       "<tr>\n",
       "       <td></td>         <th>coef</th>     <th>std err</th>      <th>t</th>      <th>P>|t|</th>  <th>[0.025</th>    <th>0.975]</th>  \n",
       "</tr>\n",
       "<tr>\n",
       "  <th>Intercept</th>  <td>  -89.1143</td> <td>   13.047</td> <td>   -6.830</td> <td> 0.000</td> <td> -114.859</td> <td>  -63.370</td>\n",
       "</tr>\n",
       "<tr>\n",
       "  <th>pct_female</th> <td>    1.8873</td> <td>    0.258</td> <td>    7.301</td> <td> 0.000</td> <td>    1.377</td> <td>    2.397</td>\n",
       "</tr>\n",
       "</table>\n",
       "<table class=\"simpletable\">\n",
       "<tr>\n",
       "  <th>Omnibus:</th>       <td> 8.181</td> <th>  Durbin-Watson:     </th> <td>   1.795</td>\n",
       "</tr>\n",
       "<tr>\n",
       "  <th>Prob(Omnibus):</th> <td> 0.017</td> <th>  Jarque-Bera (JB):  </th> <td>   5.936</td>\n",
       "</tr>\n",
       "<tr>\n",
       "  <th>Skew:</th>          <td> 0.319</td> <th>  Prob(JB):          </th> <td>  0.0514</td>\n",
       "</tr>\n",
       "<tr>\n",
       "  <th>Kurtosis:</th>      <td> 2.388</td> <th>  Cond. No.          </th> <td>2.21e+03</td>\n",
       "</tr>\n",
       "</table><br/><br/>Notes:<br/>[1] Standard Errors assume that the covariance matrix of the errors is correctly specified.<br/>[2] The condition number is large, 2.21e+03. This might indicate that there are<br/>strong multicollinearity or other numerical problems."
      ],
      "text/plain": [
       "<class 'statsmodels.iolib.summary.Summary'>\n",
       "\"\"\"\n",
       "                             OLS Regression Results                            \n",
       "===============================================================================\n",
       "Dep. Variable:     Alcohol_Consumption   R-squared:                       0.228\n",
       "Model:                             OLS   Adj. R-squared:                  0.224\n",
       "Method:                  Least Squares   F-statistic:                     53.30\n",
       "Date:                 Sat, 04 Mar 2023   Prob (F-statistic):           8.87e-12\n",
       "Time:                         11:24:07   Log-Likelihood:                -510.92\n",
       "No. Observations:                  182   AIC:                             1026.\n",
       "Df Residuals:                      180   BIC:                             1032.\n",
       "Df Model:                            1                                         \n",
       "Covariance Type:             nonrobust                                         \n",
       "==============================================================================\n",
       "                 coef    std err          t      P>|t|      [0.025      0.975]\n",
       "------------------------------------------------------------------------------\n",
       "Intercept    -89.1143     13.047     -6.830      0.000    -114.859     -63.370\n",
       "pct_female     1.8873      0.258      7.301      0.000       1.377       2.397\n",
       "==============================================================================\n",
       "Omnibus:                        8.181   Durbin-Watson:                   1.795\n",
       "Prob(Omnibus):                  0.017   Jarque-Bera (JB):                5.936\n",
       "Skew:                           0.319   Prob(JB):                       0.0514\n",
       "Kurtosis:                       2.388   Cond. No.                     2.21e+03\n",
       "==============================================================================\n",
       "\n",
       "Notes:\n",
       "[1] Standard Errors assume that the covariance matrix of the errors is correctly specified.\n",
       "[2] The condition number is large, 2.21e+03. This might indicate that there are\n",
       "strong multicollinearity or other numerical problems.\n",
       "\"\"\""
      ]
     },
     "execution_count": 69,
     "metadata": {},
     "output_type": "execute_result"
    }
   ],
   "source": [
    "model.summary()"
   ]
  },
  {
   "cell_type": "code",
   "execution_count": 70,
   "id": "69e7570a",
   "metadata": {},
   "outputs": [
    {
     "data": {
      "text/plain": [
       "<AxesSubplot:xlabel='pct_female', ylabel='Alcohol_Consumption'>"
      ]
     },
     "execution_count": 70,
     "metadata": {},
     "output_type": "execute_result"
    },
    {
     "data": {
      "image/png": "[encoded data removed]",
      "text/plain": [
       "<Figure size 432x288 with 1 Axes>"
      ]
     },
     "metadata": {
      "needs_background": "light"
     },
     "output_type": "display_data"
    }
   ],
   "source": [
    "sns.scatterplot(x = train05.pct_female[train05.pct_female > 45], y = train05.Alcohol_Consumption[train05.pct_female > 45], color = 'orange')\n",
    "sns.lineplot(x = possible.pct_female, y = possible.pct_female*model.params['pct_female'] + model.params['Intercept'])"
   ]
  },
  {
   "cell_type": "code",
   "execution_count": 71,
   "id": "fa0ef67e",
   "metadata": {
    "scrolled": true
   },
   "outputs": [
    {
     "data": {
      "text/plain": [
       "Alcohol_Consumption       1.000000\n",
       "GDP                       0.369669\n",
       "Christian                 0.421446\n",
       "Muslim                   -0.490820\n",
       "Irreligion                0.398835\n",
       "Hindu                    -0.137425\n",
       "Buddhist                 -0.115469\n",
       "Folk_religion            -0.116362\n",
       "Other_religion           -0.058865\n",
       "Jewish                   -0.001268\n",
       "Democracy                 0.464541\n",
       "Education                 0.535028\n",
       "Wine                      0.067537\n",
       "Year                           NaN\n",
       "Depression               -0.017159\n",
       "Homicides                 0.000983\n",
       "drug_deaths_per_100000    0.381714\n",
       "Median_age                0.607239\n",
       "Population               -0.021974\n",
       "conflict_deaths          -0.040442\n",
       "deaths_to_pop_rate       -0.019191\n",
       "elec_acc_pct_pop          0.343108\n",
       "Urban_population         -0.005129\n",
       "Rural_population         -0.037088\n",
       "pct_female                0.337883\n",
       "urban_pop_share           0.298593\n",
       "suicide_death_rate        0.299399\n",
       "conflict_deaths_cat      -0.220305\n",
       "dtype: float64"
      ]
     },
     "execution_count": 71,
     "metadata": {},
     "output_type": "execute_result"
    }
   ],
   "source": [
    "train05.corrwith(train05.Alcohol_Consumption)"
   ]
  },
  {
   "cell_type": "markdown",
   "id": "2f0a90ab",
   "metadata": {},
   "source": [
    "## Modifying depression and homicide predictors to their respective rates for train05:"
   ]
  },
  {
   "cell_type": "code",
   "execution_count": 72,
   "id": "986af886",
   "metadata": {},
   "outputs": [
    {
     "name": "stderr",
     "output_type": "stream",
     "text": [
      "/var/folders/gj/dmpwn9tn61zc1kpc9wx2dcsc0000gn/T/ipykernel_16118/2944298978.py:1: SettingWithCopyWarning: \n",
      "A value is trying to be set on a copy of a slice from a DataFrame.\n",
      "Try using .loc[row_indexer,col_indexer] = value instead\n",
      "\n",
      "See the caveats in the documentation: https://pandas.pydata.org/pandas-docs/stable/user_guide/indexing.html#returning-a-view-versus-a-copy\n",
      "  train05['depression_rate'] = train05['Depression']/train05['Population']*100\n"
     ]
    },
    {
     "data": {
      "text/plain": [
       "0    3.475991\n",
       "1    2.536836\n",
       "2    3.986741\n",
       "3    4.129250\n",
       "4    3.838273\n",
       "Name: depression_rate, dtype: float64"
      ]
     },
     "execution_count": 72,
     "metadata": {},
     "output_type": "execute_result"
    }
   ],
   "source": [
    "train05['depression_rate'] = train05['Depression']/train05['Population']*100\n",
    "train05['depression_rate'].head()"
   ]
  },
  {
   "cell_type": "code",
   "execution_count": 73,
   "id": "42ca6309",
   "metadata": {},
   "outputs": [
    {
     "name": "stderr",
     "output_type": "stream",
     "text": [
      "/var/folders/gj/dmpwn9tn61zc1kpc9wx2dcsc0000gn/T/ipykernel_16118/1921898914.py:1: SettingWithCopyWarning: \n",
      "A value is trying to be set on a copy of a slice from a DataFrame.\n",
      "Try using .loc[row_indexer,col_indexer] = value instead\n",
      "\n",
      "See the caveats in the documentation: https://pandas.pydata.org/pandas-docs/stable/user_guide/indexing.html#returning-a-view-versus-a-copy\n",
      "  train05['homicide_rate'] = train05['Homicides']/train05['Population']*100\n"
     ]
    },
    {
     "data": {
      "text/plain": [
       "0    0.010106\n",
       "1    0.005210\n",
       "2    0.001481\n",
       "3         NaN\n",
       "4    0.012061\n",
       "Name: homicide_rate, dtype: float64"
      ]
     },
     "execution_count": 73,
     "metadata": {},
     "output_type": "execute_result"
    }
   ],
   "source": [
    "train05['homicide_rate'] = train05['Homicides']/train05['Population']*100\n",
    "train05['homicide_rate'].head()"
   ]
  },
  {
   "cell_type": "code",
   "execution_count": 74,
   "id": "72290ebd",
   "metadata": {},
   "outputs": [
    {
     "data": {
      "text/plain": [
       "Alcohol_Consumption       1.000000\n",
       "GDP                       0.369669\n",
       "Christian                 0.421446\n",
       "Muslim                   -0.490820\n",
       "Irreligion                0.398835\n",
       "Hindu                    -0.137425\n",
       "Buddhist                 -0.115469\n",
       "Folk_religion            -0.116362\n",
       "Other_religion           -0.058865\n",
       "Jewish                   -0.001268\n",
       "Democracy                 0.464541\n",
       "Education                 0.535028\n",
       "Wine                      0.067537\n",
       "Year                           NaN\n",
       "Depression               -0.017159\n",
       "Homicides                 0.000983\n",
       "drug_deaths_per_100000    0.381714\n",
       "Median_age                0.607239\n",
       "Population               -0.021974\n",
       "conflict_deaths          -0.040442\n",
       "deaths_to_pop_rate       -0.019191\n",
       "elec_acc_pct_pop          0.343108\n",
       "Urban_population         -0.005129\n",
       "Rural_population         -0.037088\n",
       "pct_female                0.337883\n",
       "urban_pop_share           0.298593\n",
       "suicide_death_rate        0.299399\n",
       "conflict_deaths_cat      -0.220305\n",
       "depression_rate           0.379779\n",
       "homicide_rate            -0.018367\n",
       "dtype: float64"
      ]
     },
     "execution_count": 74,
     "metadata": {},
     "output_type": "execute_result"
    }
   ],
   "source": [
    "train05.corrwith(train05.Alcohol_Consumption)"
   ]
  },
  {
   "cell_type": "markdown",
   "id": "32c39ad8",
   "metadata": {},
   "source": [
    "## Homicide_rate\n",
    "Initially it can be derived from the above data that homicide rate as a predictor has a negligible negative correlation with alcohol consumption; it is approximately 0.01. Let's visualize it against alcohol consumption:"
   ]
  },
  {
   "cell_type": "code",
   "execution_count": 75,
   "id": "3dfbdc1c",
   "metadata": {},
   "outputs": [
    {
     "data": {
      "text/plain": [
       "<AxesSubplot:xlabel='homicide_rate', ylabel='Alcohol_Consumption'>"
      ]
     },
     "execution_count": 75,
     "metadata": {},
     "output_type": "execute_result"
    },
    {
     "data": {
      "image/png": "[encoded data removed]",
      "text/plain": [
       "<Figure size 432x288 with 1 Axes>"
      ]
     },
     "metadata": {
      "needs_background": "light"
     },
     "output_type": "display_data"
    }
   ],
   "source": [
    "sns.scatterplot(x = train05['homicide_rate'], y = train05.Alcohol_Consumption)"
   ]
  },
  {
   "cell_type": "markdown",
   "id": "93036b78",
   "metadata": {},
   "source": [
    "### I am going to check for possible transformations to see if I can get a better correlation:"
   ]
  },
  {
   "cell_type": "code",
   "execution_count": 76,
   "id": "d74fa3b0",
   "metadata": {},
   "outputs": [
    {
     "name": "stdout",
     "output_type": "stream",
     "text": [
      "Correlation with log: -0.12\n",
      "Correlation with square: -0.01\n",
      "Correlation with cube: -0.02\n",
      "Correlation with square root: -0.06\n",
      "Correlation with inverse: 0.19\n"
     ]
    }
   ],
   "source": [
    "#create copy of train dataset \n",
    "\n",
    "train5 = train05.dropna()\n",
    "\n",
    "corr_log = train5['Alcohol_Consumption'].corr(np.log(train5['homicide_rate']+1e-10))\n",
    "\n",
    "# Print the correlation\n",
    "\n",
    "print(f\"Correlation with log: {corr_log:.2f}\")\n",
    "\n",
    "# Calculate the correlations\n",
    "corr_sq = train5['Alcohol_Consumption'].corr(train5['homicide_rate']**2)\n",
    "corr_cube = train5['Alcohol_Consumption'].corr(train5['homicide_rate']**3)\n",
    "corr_sq_root = train5['Alcohol_Consumption'].corr(train5['homicide_rate']**(1/2))\n",
    "corr_inv = train5['Alcohol_Consumption'].corr(1/(train5['homicide_rate']))\n",
    "\n",
    "\n",
    "# Print the correlations\n",
    "print(f\"Correlation with square: {corr_sq:.2f}\")\n",
    "print(f\"Correlation with cube: {corr_cube:.2f}\")\n",
    "print(f\"Correlation with square root: {corr_sq_root:.2f}\")\n",
    "print(f\"Correlation with inverse: {corr_inv:.2f}\")\n"
   ]
  },
  {
   "cell_type": "markdown",
   "id": "38dcb6a6",
   "metadata": {},
   "source": [
    "### It looks like tranforming the homicide rate by taking the inverse of it bumps up the correlation to 0.19, so let's try to visualize the response with the transformed variable:"
   ]
  },
  {
   "cell_type": "code",
   "execution_count": 77,
   "id": "55c723eb",
   "metadata": {},
   "outputs": [
    {
     "data": {
      "text/plain": [
       "<AxesSubplot:xlabel='homicide_rate', ylabel='Alcohol_Consumption'>"
      ]
     },
     "execution_count": 77,
     "metadata": {},
     "output_type": "execute_result"
    },
    {
     "data": {
      "image/png": "[encoded data removed]",
      "text/plain": [
       "<Figure size 432x288 with 1 Axes>"
      ]
     },
     "metadata": {
      "needs_background": "light"
     },
     "output_type": "display_data"
    }
   ],
   "source": [
    "sns.scatterplot(x = 1/train05['homicide_rate'], y =train05['Alcohol_Consumption'])"
   ]
  },
  {
   "cell_type": "code",
   "execution_count": 78,
   "id": "9ff1222f",
   "metadata": {},
   "outputs": [
    {
     "name": "stderr",
     "output_type": "stream",
     "text": [
      "/var/folders/gj/dmpwn9tn61zc1kpc9wx2dcsc0000gn/T/ipykernel_16118/3847909642.py:1: SettingWithCopyWarning: \n",
      "A value is trying to be set on a copy of a slice from a DataFrame.\n",
      "Try using .loc[row_indexer,col_indexer] = value instead\n",
      "\n",
      "See the caveats in the documentation: https://pandas.pydata.org/pandas-docs/stable/user_guide/indexing.html#returning-a-view-versus-a-copy\n",
      "  train05['inv_hom_rate'] = 1/train05['homicide_rate']\n"
     ]
    },
    {
     "data": {
      "text/html": [
       "<table class=\"simpletable\">\n",
       "<caption>OLS Regression Results</caption>\n",
       "<tr>\n",
       "  <th>Dep. Variable:</th>    <td>Alcohol_Consumption</td> <th>  R-squared:         </th> <td>   0.038</td>\n",
       "</tr>\n",
       "<tr>\n",
       "  <th>Model:</th>                    <td>OLS</td>         <th>  Adj. R-squared:    </th> <td>   0.033</td>\n",
       "</tr>\n",
       "<tr>\n",
       "  <th>Method:</th>              <td>Least Squares</td>    <th>  F-statistic:       </th> <td>   7.179</td>\n",
       "</tr>\n",
       "<tr>\n",
       "  <th>Date:</th>              <td>Sat, 04 Mar 2023</td>   <th>  Prob (F-statistic):</th>  <td>0.00805</td>\n",
       "</tr>\n",
       "<tr>\n",
       "  <th>Time:</th>                  <td>11:24:10</td>       <th>  Log-Likelihood:    </th> <td> -534.11</td>\n",
       "</tr>\n",
       "<tr>\n",
       "  <th>No. Observations:</th>       <td>   183</td>        <th>  AIC:               </th> <td>   1072.</td>\n",
       "</tr>\n",
       "<tr>\n",
       "  <th>Df Residuals:</th>           <td>   181</td>        <th>  BIC:               </th> <td>   1079.</td>\n",
       "</tr>\n",
       "<tr>\n",
       "  <th>Df Model:</th>               <td>     1</td>        <th>                     </th>     <td> </td>   \n",
       "</tr>\n",
       "<tr>\n",
       "  <th>Covariance Type:</th>       <td>nonrobust</td>      <th>                     </th>     <td> </td>   \n",
       "</tr>\n",
       "</table>\n",
       "<table class=\"simpletable\">\n",
       "<tr>\n",
       "        <td></td>          <th>coef</th>     <th>std err</th>      <th>t</th>      <th>P>|t|</th>  <th>[0.025</th>    <th>0.975]</th>  \n",
       "</tr>\n",
       "<tr>\n",
       "  <th>Intercept</th>    <td>    5.1083</td> <td>    0.451</td> <td>   11.335</td> <td> 0.000</td> <td>    4.219</td> <td>    5.998</td>\n",
       "</tr>\n",
       "<tr>\n",
       "  <th>inv_hom_rate</th> <td>    0.0026</td> <td>    0.001</td> <td>    2.679</td> <td> 0.008</td> <td>    0.001</td> <td>    0.004</td>\n",
       "</tr>\n",
       "</table>\n",
       "<table class=\"simpletable\">\n",
       "<tr>\n",
       "  <th>Omnibus:</th>       <td> 9.850</td> <th>  Durbin-Watson:     </th> <td>   1.814</td>\n",
       "</tr>\n",
       "<tr>\n",
       "  <th>Prob(Omnibus):</th> <td> 0.007</td> <th>  Jarque-Bera (JB):  </th> <td>  10.504</td>\n",
       "</tr>\n",
       "<tr>\n",
       "  <th>Skew:</th>          <td> 0.571</td> <th>  Prob(JB):          </th> <td> 0.00524</td>\n",
       "</tr>\n",
       "<tr>\n",
       "  <th>Kurtosis:</th>      <td> 2.730</td> <th>  Cond. No.          </th> <td>    635.</td>\n",
       "</tr>\n",
       "</table><br/><br/>Notes:<br/>[1] Standard Errors assume that the covariance matrix of the errors is correctly specified."
      ],
      "text/plain": [
       "<class 'statsmodels.iolib.summary.Summary'>\n",
       "\"\"\"\n",
       "                             OLS Regression Results                            \n",
       "===============================================================================\n",
       "Dep. Variable:     Alcohol_Consumption   R-squared:                       0.038\n",
       "Model:                             OLS   Adj. R-squared:                  0.033\n",
       "Method:                  Least Squares   F-statistic:                     7.179\n",
       "Date:                 Sat, 04 Mar 2023   Prob (F-statistic):            0.00805\n",
       "Time:                         11:24:10   Log-Likelihood:                -534.11\n",
       "No. Observations:                  183   AIC:                             1072.\n",
       "Df Residuals:                      181   BIC:                             1079.\n",
       "Df Model:                            1                                         \n",
       "Covariance Type:             nonrobust                                         \n",
       "================================================================================\n",
       "                   coef    std err          t      P>|t|      [0.025      0.975]\n",
       "--------------------------------------------------------------------------------\n",
       "Intercept        5.1083      0.451     11.335      0.000       4.219       5.998\n",
       "inv_hom_rate     0.0026      0.001      2.679      0.008       0.001       0.004\n",
       "==============================================================================\n",
       "Omnibus:                        9.850   Durbin-Watson:                   1.814\n",
       "Prob(Omnibus):                  0.007   Jarque-Bera (JB):               10.504\n",
       "Skew:                           0.571   Prob(JB):                      0.00524\n",
       "Kurtosis:                       2.730   Cond. No.                         635.\n",
       "==============================================================================\n",
       "\n",
       "Notes:\n",
       "[1] Standard Errors assume that the covariance matrix of the errors is correctly specified.\n",
       "\"\"\""
      ]
     },
     "execution_count": 78,
     "metadata": {},
     "output_type": "execute_result"
    }
   ],
   "source": [
    "train05['inv_hom_rate'] = 1/train05['homicide_rate']\n",
    "model_hom = sm.ols('Alcohol_Consumption ~ inv_hom_rate', train05).fit()\n",
    "model_hom.summary()\n",
    "# sns.scatterplot(x = model.fittedvalues, y = model.resid, color = 'orange')\n",
    "# sns.lineplot(x = [model.fittedvalues.min(), model.fittedvalues.max()], y = [0,0])"
   ]
  },
  {
   "cell_type": "markdown",
   "id": "edcccab4",
   "metadata": {},
   "source": [
    "#### Even though transforming homicide_rate did bump up the correlation significantly between the predictor and the response, they still don't have a strong relationship and the model fit is not good/useful, as can be seen by the R^2 value of 0.038. We will therefore continue without this predictor."
   ]
  },
  {
   "cell_type": "markdown",
   "id": "894e1b06",
   "metadata": {},
   "source": [
    "## Depression_rate\n",
    "The depression_rate predictor has a correlation of almost 0.38 with alcohol consumption, therefore it is definitely worth it exploring the relationship:"
   ]
  },
  {
   "cell_type": "code",
   "execution_count": 79,
   "id": "cc03acd0",
   "metadata": {},
   "outputs": [
    {
     "data": {
      "text/plain": [
       "<AxesSubplot:xlabel='depression_rate', ylabel='Alcohol_Consumption'>"
      ]
     },
     "execution_count": 79,
     "metadata": {},
     "output_type": "execute_result"
    },
    {
     "data": {
      "image/png": "[encoded data removed]",
      "text/plain": [
       "<Figure size 432x288 with 1 Axes>"
      ]
     },
     "metadata": {
      "needs_background": "light"
     },
     "output_type": "display_data"
    }
   ],
   "source": [
    "sns.scatterplot(x = train05['depression_rate'], y = train05.Alcohol_Consumption)"
   ]
  },
  {
   "cell_type": "markdown",
   "id": "f9f5f16e",
   "metadata": {},
   "source": [
    "Performing transformations here could prove helpful\n",
    ", so let's check the resulting correlations from different variable transformations:"
   ]
  },
  {
   "cell_type": "code",
   "execution_count": 80,
   "id": "08eb94d9",
   "metadata": {},
   "outputs": [
    {
     "name": "stdout",
     "output_type": "stream",
     "text": [
      "Correlation with log: 0.37\n",
      "Correlation with square: 0.36\n",
      "Correlation with cube: 0.34\n",
      "Correlation with square root: 0.37\n",
      "Correlation with inverse: -0.36\n"
     ]
    }
   ],
   "source": [
    "#using previous train05 copy \"train5\" (no Na values)\n",
    "\n",
    "corr_log = train5['Alcohol_Consumption'].corr(np.log(train5['depression_rate']+1e-10))\n",
    "\n",
    "# Print the correlation\n",
    "\n",
    "print(f\"Correlation with log: {corr_log:.2f}\")\n",
    "\n",
    "# Calculate the correlations\n",
    "corr_sq = train5['Alcohol_Consumption'].corr(train5['depression_rate']**2)\n",
    "corr_cube = train5['Alcohol_Consumption'].corr(train5['depression_rate']**3)\n",
    "corr_sq_root = train5['Alcohol_Consumption'].corr(train5['depression_rate']**(1/2))\n",
    "corr_inv = train5['Alcohol_Consumption'].corr(1/(train5['depression_rate']))\n",
    "\n",
    "\n",
    "# Print the correlations\n",
    "print(f\"Correlation with square: {corr_sq:.2f}\")\n",
    "print(f\"Correlation with cube: {corr_cube:.2f}\")\n",
    "print(f\"Correlation with square root: {corr_sq_root:.2f}\")\n",
    "print(f\"Correlation with inverse: {corr_inv:.2f}\")\n"
   ]
  },
  {
   "cell_type": "markdown",
   "id": "e8d4d0c2",
   "metadata": {},
   "source": [
    "It looks like no transformation is appropriate. Let's try fitting the model:"
   ]
  },
  {
   "cell_type": "code",
   "execution_count": 81,
   "id": "b43bf9e3",
   "metadata": {},
   "outputs": [
    {
     "data": {
      "text/html": [
       "<table class=\"simpletable\">\n",
       "<caption>OLS Regression Results</caption>\n",
       "<tr>\n",
       "  <th>Dep. Variable:</th>    <td>Alcohol_Consumption</td> <th>  R-squared:         </th> <td>   0.144</td>\n",
       "</tr>\n",
       "<tr>\n",
       "  <th>Model:</th>                    <td>OLS</td>         <th>  Adj. R-squared:    </th> <td>   0.140</td>\n",
       "</tr>\n",
       "<tr>\n",
       "  <th>Method:</th>              <td>Least Squares</td>    <th>  F-statistic:       </th> <td>   31.35</td>\n",
       "</tr>\n",
       "<tr>\n",
       "  <th>Date:</th>              <td>Sat, 04 Mar 2023</td>   <th>  Prob (F-statistic):</th> <td>7.65e-08</td>\n",
       "</tr>\n",
       "<tr>\n",
       "  <th>Time:</th>                  <td>11:24:11</td>       <th>  Log-Likelihood:    </th> <td> -537.72</td>\n",
       "</tr>\n",
       "<tr>\n",
       "  <th>No. Observations:</th>       <td>   188</td>        <th>  AIC:               </th> <td>   1079.</td>\n",
       "</tr>\n",
       "<tr>\n",
       "  <th>Df Residuals:</th>           <td>   186</td>        <th>  BIC:               </th> <td>   1086.</td>\n",
       "</tr>\n",
       "<tr>\n",
       "  <th>Df Model:</th>               <td>     1</td>        <th>                     </th>     <td> </td>   \n",
       "</tr>\n",
       "<tr>\n",
       "  <th>Covariance Type:</th>       <td>nonrobust</td>      <th>                     </th>     <td> </td>   \n",
       "</tr>\n",
       "</table>\n",
       "<table class=\"simpletable\">\n",
       "<tr>\n",
       "         <td></td>            <th>coef</th>     <th>std err</th>      <th>t</th>      <th>P>|t|</th>  <th>[0.025</th>    <th>0.975]</th>  \n",
       "</tr>\n",
       "<tr>\n",
       "  <th>Intercept</th>       <td>   -1.0021</td> <td>    1.283</td> <td>   -0.781</td> <td> 0.436</td> <td>   -3.533</td> <td>    1.529</td>\n",
       "</tr>\n",
       "<tr>\n",
       "  <th>depression_rate</th> <td>    1.9856</td> <td>    0.355</td> <td>    5.599</td> <td> 0.000</td> <td>    1.286</td> <td>    2.685</td>\n",
       "</tr>\n",
       "</table>\n",
       "<table class=\"simpletable\">\n",
       "<tr>\n",
       "  <th>Omnibus:</th>       <td> 3.223</td> <th>  Durbin-Watson:     </th> <td>   1.895</td>\n",
       "</tr>\n",
       "<tr>\n",
       "  <th>Prob(Omnibus):</th> <td> 0.200</td> <th>  Jarque-Bera (JB):  </th> <td>   3.074</td>\n",
       "</tr>\n",
       "<tr>\n",
       "  <th>Skew:</th>          <td> 0.252</td> <th>  Prob(JB):          </th> <td>   0.215</td>\n",
       "</tr>\n",
       "<tr>\n",
       "  <th>Kurtosis:</th>      <td> 2.628</td> <th>  Cond. No.          </th> <td>    16.1</td>\n",
       "</tr>\n",
       "</table><br/><br/>Notes:<br/>[1] Standard Errors assume that the covariance matrix of the errors is correctly specified."
      ],
      "text/plain": [
       "<class 'statsmodels.iolib.summary.Summary'>\n",
       "\"\"\"\n",
       "                             OLS Regression Results                            \n",
       "===============================================================================\n",
       "Dep. Variable:     Alcohol_Consumption   R-squared:                       0.144\n",
       "Model:                             OLS   Adj. R-squared:                  0.140\n",
       "Method:                  Least Squares   F-statistic:                     31.35\n",
       "Date:                 Sat, 04 Mar 2023   Prob (F-statistic):           7.65e-08\n",
       "Time:                         11:24:11   Log-Likelihood:                -537.72\n",
       "No. Observations:                  188   AIC:                             1079.\n",
       "Df Residuals:                      186   BIC:                             1086.\n",
       "Df Model:                            1                                         \n",
       "Covariance Type:             nonrobust                                         \n",
       "===================================================================================\n",
       "                      coef    std err          t      P>|t|      [0.025      0.975]\n",
       "-----------------------------------------------------------------------------------\n",
       "Intercept          -1.0021      1.283     -0.781      0.436      -3.533       1.529\n",
       "depression_rate     1.9856      0.355      5.599      0.000       1.286       2.685\n",
       "==============================================================================\n",
       "Omnibus:                        3.223   Durbin-Watson:                   1.895\n",
       "Prob(Omnibus):                  0.200   Jarque-Bera (JB):                3.074\n",
       "Skew:                           0.252   Prob(JB):                        0.215\n",
       "Kurtosis:                       2.628   Cond. No.                         16.1\n",
       "==============================================================================\n",
       "\n",
       "Notes:\n",
       "[1] Standard Errors assume that the covariance matrix of the errors is correctly specified.\n",
       "\"\"\""
      ]
     },
     "execution_count": 81,
     "metadata": {},
     "output_type": "execute_result"
    }
   ],
   "source": [
    "model_dep = sm.ols('Alcohol_Consumption ~ depression_rate', train05).fit()\n",
    "model_dep.summary()"
   ]
  },
  {
   "cell_type": "code",
   "execution_count": 82,
   "id": "e82aea3e",
   "metadata": {},
   "outputs": [
    {
     "data": {
      "image/png": "[encoded data removed]",
      "text/plain": [
       "<Figure size 360x360 with 1 Axes>"
      ]
     },
     "metadata": {
      "needs_background": "light"
     },
     "output_type": "display_data"
    }
   ],
   "source": [
    "# Create scatterplot with regression line and confidence intervals\n",
    "sns.lmplot(x='depression_rate', y='Alcohol_Consumption', data=train05, ci=95)\n",
    "\n",
    "# Set axis labels\n",
    "plt.xlabel('Depression rate')\n",
    "plt.ylabel('Alcohol consumption')\n",
    "plt.show()\n"
   ]
  },
  {
   "cell_type": "code",
   "execution_count": 83,
   "id": "fa6fd731",
   "metadata": {},
   "outputs": [
    {
     "data": {
      "text/plain": [
       "Alcohol_Consumption       0.379779\n",
       "GDP                       0.306222\n",
       "Christian                 0.101345\n",
       "Muslim                   -0.052130\n",
       "Irreligion                0.181094\n",
       "Hindu                     0.103982\n",
       "Buddhist                 -0.187626\n",
       "Folk_religion            -0.170250\n",
       "Other_religion           -0.141398\n",
       "Jewish                    0.113597\n",
       "Democracy                 0.262604\n",
       "Education                 0.247514\n",
       "Wine                      0.072896\n",
       "Year                           NaN\n",
       "Depression                0.019102\n",
       "Homicides                 0.005636\n",
       "drug_deaths_per_100000    0.389573\n",
       "Median_age                0.410815\n",
       "Population                0.006516\n",
       "conflict_deaths          -0.010431\n",
       "deaths_to_pop_rate       -0.018397\n",
       "elec_acc_pct_pop          0.214430\n",
       "Urban_population          0.014067\n",
       "Rural_population         -0.000270\n",
       "pct_female               -0.020278\n",
       "urban_pop_share           0.326283\n",
       "suicide_death_rate        0.159771\n",
       "conflict_deaths_cat       0.055172\n",
       "depression_rate           1.000000\n",
       "homicide_rate            -0.137831\n",
       "inv_hom_rate              0.193245\n",
       "dtype: float64"
      ]
     },
     "execution_count": 83,
     "metadata": {},
     "output_type": "execute_result"
    }
   ],
   "source": [
    "#checking correlations with other preds\n",
    "train05.corrwith(train05.depression_rate)"
   ]
  },
  {
   "cell_type": "markdown",
   "id": "119464c6",
   "metadata": {},
   "source": [
    "### Multicollinearity concerns"
   ]
  },
  {
   "cell_type": "markdown",
   "id": "f606b802",
   "metadata": {},
   "source": [
    "As we can see above, depression_rate has a moderately high correlation with the drug deaths and median_age predictors. In the future, in the process of deriving the best, most accurate MLR model we can, we should keep this in mind and should any issues arise, resolve them by removing either of the predictors, using an interaction term to reduce multicollinearity or utilize regularization (Ridge/Lasso regression).\n",
    "\n",
    "(other predictors very highly correlated (scale of 0.6-0.8 correlation), such as GDP- Median_Age -Education, indicating collinearity issues which may need to be taken care of. Below I have made a first attempt at a MLR model with an interaction term of those highly correlated variables instead.)"
   ]
  },
  {
   "cell_type": "markdown",
   "id": "6fabea52",
   "metadata": {},
   "source": [
    "## Attempting predictor combinations for MLR model"
   ]
  },
  {
   "cell_type": "code",
   "execution_count": 84,
   "id": "64ba4280",
   "metadata": {},
   "outputs": [
    {
     "data": {
      "text/html": [
       "<table class=\"simpletable\">\n",
       "<caption>OLS Regression Results</caption>\n",
       "<tr>\n",
       "  <th>Dep. Variable:</th>    <td>Alcohol_Consumption</td> <th>  R-squared:         </th> <td>   0.591</td>\n",
       "</tr>\n",
       "<tr>\n",
       "  <th>Model:</th>                    <td>OLS</td>         <th>  Adj. R-squared:    </th> <td>   0.548</td>\n",
       "</tr>\n",
       "<tr>\n",
       "  <th>Method:</th>              <td>Least Squares</td>    <th>  F-statistic:       </th> <td>   13.57</td>\n",
       "</tr>\n",
       "<tr>\n",
       "  <th>Date:</th>              <td>Sat, 04 Mar 2023</td>   <th>  Prob (F-statistic):</th> <td>2.35e-24</td>\n",
       "</tr>\n",
       "<tr>\n",
       "  <th>Time:</th>                  <td>11:24:12</td>       <th>  Log-Likelihood:    </th> <td> -468.30</td>\n",
       "</tr>\n",
       "<tr>\n",
       "  <th>No. Observations:</th>       <td>   188</td>        <th>  AIC:               </th> <td>   974.6</td>\n",
       "</tr>\n",
       "<tr>\n",
       "  <th>Df Residuals:</th>           <td>   169</td>        <th>  BIC:               </th> <td>   1036.</td>\n",
       "</tr>\n",
       "<tr>\n",
       "  <th>Df Model:</th>               <td>    18</td>        <th>                     </th>     <td> </td>   \n",
       "</tr>\n",
       "<tr>\n",
       "  <th>Covariance Type:</th>       <td>nonrobust</td>      <th>                     </th>     <td> </td>   \n",
       "</tr>\n",
       "</table>\n",
       "<table class=\"simpletable\">\n",
       "<tr>\n",
       "                     <td></td>                       <th>coef</th>     <th>std err</th>      <th>t</th>      <th>P>|t|</th>  <th>[0.025</th>    <th>0.975]</th>  \n",
       "</tr>\n",
       "<tr>\n",
       "  <th>Intercept</th>                              <td>    4.6954</td> <td>    4.534</td> <td>    1.036</td> <td> 0.302</td> <td>   -4.255</td> <td>   13.646</td>\n",
       "</tr>\n",
       "<tr>\n",
       "  <th>depression_rate</th>                        <td>    1.1920</td> <td>    1.058</td> <td>    1.127</td> <td> 0.261</td> <td>   -0.897</td> <td>    3.281</td>\n",
       "</tr>\n",
       "<tr>\n",
       "  <th>drug_deaths_per_100000</th>                 <td>    0.6769</td> <td>    1.242</td> <td>    0.545</td> <td> 0.586</td> <td>   -1.774</td> <td>    3.128</td>\n",
       "</tr>\n",
       "<tr>\n",
       "  <th>depression_rate:drug_deaths_per_100000</th> <td>   -0.0555</td> <td>    0.295</td> <td>   -0.188</td> <td> 0.851</td> <td>   -0.637</td> <td>    0.526</td>\n",
       "</tr>\n",
       "<tr>\n",
       "  <th>Median_age</th>                             <td>   -0.2348</td> <td>    0.214</td> <td>   -1.096</td> <td> 0.274</td> <td>   -0.658</td> <td>    0.188</td>\n",
       "</tr>\n",
       "<tr>\n",
       "  <th>depression_rate:Median_age</th>             <td>   -0.0249</td> <td>    0.043</td> <td>   -0.576</td> <td> 0.565</td> <td>   -0.110</td> <td>    0.061</td>\n",
       "</tr>\n",
       "<tr>\n",
       "  <th>GDP</th>                                    <td>   -0.0005</td> <td>    0.000</td> <td>   -1.065</td> <td> 0.289</td> <td>   -0.001</td> <td>    0.000</td>\n",
       "</tr>\n",
       "<tr>\n",
       "  <th>Median_age:GDP</th>                         <td> 2.542e-05</td> <td> 1.56e-05</td> <td>    1.627</td> <td> 0.106</td> <td>-5.42e-06</td> <td> 5.63e-05</td>\n",
       "</tr>\n",
       "<tr>\n",
       "  <th>Education</th>                              <td>   -0.6442</td> <td>    0.360</td> <td>   -1.788</td> <td> 0.076</td> <td>   -1.355</td> <td>    0.067</td>\n",
       "</tr>\n",
       "<tr>\n",
       "  <th>Median_age:Education</th>                   <td>    0.0469</td> <td>    0.017</td> <td>    2.795</td> <td> 0.006</td> <td>    0.014</td> <td>    0.080</td>\n",
       "</tr>\n",
       "<tr>\n",
       "  <th>GDP:Education</th>                          <td>  1.92e-05</td> <td> 4.92e-05</td> <td>    0.390</td> <td> 0.697</td> <td> -7.8e-05</td> <td>    0.000</td>\n",
       "</tr>\n",
       "<tr>\n",
       "  <th>Median_age:GDP:Education</th>               <td>-1.604e-06</td> <td> 1.48e-06</td> <td>   -1.083</td> <td> 0.280</td> <td>-4.53e-06</td> <td> 1.32e-06</td>\n",
       "</tr>\n",
       "<tr>\n",
       "  <th>Christian</th>                              <td>    0.0055</td> <td>    0.009</td> <td>    0.584</td> <td> 0.560</td> <td>   -0.013</td> <td>    0.024</td>\n",
       "</tr>\n",
       "<tr>\n",
       "  <th>Muslim</th>                                 <td>   -0.0342</td> <td>    0.011</td> <td>   -3.221</td> <td> 0.002</td> <td>   -0.055</td> <td>   -0.013</td>\n",
       "</tr>\n",
       "<tr>\n",
       "  <th>Christian:Muslim</th>                       <td>    0.0013</td> <td>    0.001</td> <td>    2.578</td> <td> 0.011</td> <td>    0.000</td> <td>    0.002</td>\n",
       "</tr>\n",
       "<tr>\n",
       "  <th>Irreligion</th>                             <td>   -0.0329</td> <td>    0.034</td> <td>   -0.979</td> <td> 0.329</td> <td>   -0.099</td> <td>    0.033</td>\n",
       "</tr>\n",
       "<tr>\n",
       "  <th>Christian:Irreligion</th>                   <td>    0.0018</td> <td>    0.001</td> <td>    2.273</td> <td> 0.024</td> <td>    0.000</td> <td>    0.003</td>\n",
       "</tr>\n",
       "<tr>\n",
       "  <th>Muslim:Irreligion</th>                      <td>   -0.0043</td> <td>    0.007</td> <td>   -0.609</td> <td> 0.543</td> <td>   -0.018</td> <td>    0.010</td>\n",
       "</tr>\n",
       "<tr>\n",
       "  <th>Christian:Muslim:Irreligion</th>            <td>-3.692e-05</td> <td>    0.000</td> <td>   -0.219</td> <td> 0.827</td> <td>   -0.000</td> <td>    0.000</td>\n",
       "</tr>\n",
       "</table>\n",
       "<table class=\"simpletable\">\n",
       "<tr>\n",
       "  <th>Omnibus:</th>       <td>14.025</td> <th>  Durbin-Watson:     </th> <td>   2.040</td>\n",
       "</tr>\n",
       "<tr>\n",
       "  <th>Prob(Omnibus):</th> <td> 0.001</td> <th>  Jarque-Bera (JB):  </th> <td>  40.930</td>\n",
       "</tr>\n",
       "<tr>\n",
       "  <th>Skew:</th>          <td>-0.014</td> <th>  Prob(JB):          </th> <td>1.29e-09</td>\n",
       "</tr>\n",
       "<tr>\n",
       "  <th>Kurtosis:</th>      <td> 5.286</td> <th>  Cond. No.          </th> <td>1.67e+08</td>\n",
       "</tr>\n",
       "</table><br/><br/>Notes:<br/>[1] Standard Errors assume that the covariance matrix of the errors is correctly specified.<br/>[2] The condition number is large, 1.67e+08. This might indicate that there are<br/>strong multicollinearity or other numerical problems."
      ],
      "text/plain": [
       "<class 'statsmodels.iolib.summary.Summary'>\n",
       "\"\"\"\n",
       "                             OLS Regression Results                            \n",
       "===============================================================================\n",
       "Dep. Variable:     Alcohol_Consumption   R-squared:                       0.591\n",
       "Model:                             OLS   Adj. R-squared:                  0.548\n",
       "Method:                  Least Squares   F-statistic:                     13.57\n",
       "Date:                 Sat, 04 Mar 2023   Prob (F-statistic):           2.35e-24\n",
       "Time:                         11:24:12   Log-Likelihood:                -468.30\n",
       "No. Observations:                  188   AIC:                             974.6\n",
       "Df Residuals:                      169   BIC:                             1036.\n",
       "Df Model:                           18                                         \n",
       "Covariance Type:             nonrobust                                         \n",
       "==========================================================================================================\n",
       "                                             coef    std err          t      P>|t|      [0.025      0.975]\n",
       "----------------------------------------------------------------------------------------------------------\n",
       "Intercept                                  4.6954      4.534      1.036      0.302      -4.255      13.646\n",
       "depression_rate                            1.1920      1.058      1.127      0.261      -0.897       3.281\n",
       "drug_deaths_per_100000                     0.6769      1.242      0.545      0.586      -1.774       3.128\n",
       "depression_rate:drug_deaths_per_100000    -0.0555      0.295     -0.188      0.851      -0.637       0.526\n",
       "Median_age                                -0.2348      0.214     -1.096      0.274      -0.658       0.188\n",
       "depression_rate:Median_age                -0.0249      0.043     -0.576      0.565      -0.110       0.061\n",
       "GDP                                       -0.0005      0.000     -1.065      0.289      -0.001       0.000\n",
       "Median_age:GDP                          2.542e-05   1.56e-05      1.627      0.106   -5.42e-06    5.63e-05\n",
       "Education                                 -0.6442      0.360     -1.788      0.076      -1.355       0.067\n",
       "Median_age:Education                       0.0469      0.017      2.795      0.006       0.014       0.080\n",
       "GDP:Education                            1.92e-05   4.92e-05      0.390      0.697    -7.8e-05       0.000\n",
       "Median_age:GDP:Education               -1.604e-06   1.48e-06     -1.083      0.280   -4.53e-06    1.32e-06\n",
       "Christian                                  0.0055      0.009      0.584      0.560      -0.013       0.024\n",
       "Muslim                                    -0.0342      0.011     -3.221      0.002      -0.055      -0.013\n",
       "Christian:Muslim                           0.0013      0.001      2.578      0.011       0.000       0.002\n",
       "Irreligion                                -0.0329      0.034     -0.979      0.329      -0.099       0.033\n",
       "Christian:Irreligion                       0.0018      0.001      2.273      0.024       0.000       0.003\n",
       "Muslim:Irreligion                         -0.0043      0.007     -0.609      0.543      -0.018       0.010\n",
       "Christian:Muslim:Irreligion            -3.692e-05      0.000     -0.219      0.827      -0.000       0.000\n",
       "==============================================================================\n",
       "Omnibus:                       14.025   Durbin-Watson:                   2.040\n",
       "Prob(Omnibus):                  0.001   Jarque-Bera (JB):               40.930\n",
       "Skew:                          -0.014   Prob(JB):                     1.29e-09\n",
       "Kurtosis:                       5.286   Cond. No.                     1.67e+08\n",
       "==============================================================================\n",
       "\n",
       "Notes:\n",
       "[1] Standard Errors assume that the covariance matrix of the errors is correctly specified.\n",
       "[2] The condition number is large, 1.67e+08. This might indicate that there are\n",
       "strong multicollinearity or other numerical problems.\n",
       "\"\"\""
      ]
     },
     "execution_count": 84,
     "metadata": {},
     "output_type": "execute_result"
    }
   ],
   "source": [
    "#fit MLR model \n",
    "model1= sm.ols('Alcohol_Consumption ~ depression_rate*drug_deaths_per_100000 + depression_rate*Median_age + Median_age*GDP*Education + Christian*Muslim*Irreligion', train05).fit()\n",
    "model1.summary()\n"
   ]
  },
  {
   "cell_type": "markdown",
   "id": "e90fb575",
   "metadata": {},
   "source": [
    "### CHRISTINA : Stepwise selection"
   ]
  },
  {
   "cell_type": "markdown",
   "id": "563a5418",
   "metadata": {},
   "source": [
    "### GDP Per Capita"
   ]
  },
  {
   "cell_type": "markdown",
   "id": "69672bf6",
   "metadata": {},
   "source": [
    "GDP per capita has a correlation of 0.37 with alcohol consumption, so it is definitely a worthwhile relationship to explore."
   ]
  },
  {
   "cell_type": "code",
   "execution_count": 88,
   "id": "841f07b4",
   "metadata": {},
   "outputs": [
    {
     "data": {
      "text/plain": [
       "<AxesSubplot:xlabel='GDP', ylabel='Alcohol_Consumption'>"
      ]
     },
     "execution_count": 88,
     "metadata": {},
     "output_type": "execute_result"
    },
    {
     "data": {
      "image/png": "[encoded data removed]",
      "text/plain": [
       "<Figure size 432x288 with 1 Axes>"
      ]
     },
     "metadata": {
      "needs_background": "light"
     },
     "output_type": "display_data"
    }
   ],
   "source": [
    "sns.scatterplot(data=train05, x='GDP', y='Alcohol_Consumption')"
   ]
  },
  {
   "cell_type": "markdown",
   "id": "e0cb843b",
   "metadata": {},
   "source": [
    "Given the uneven scatter of the data towards the $0-10,000 per capita side, a log transformation might be helpful."
   ]
  },
  {
   "cell_type": "code",
   "execution_count": 89,
   "id": "f9e5782f",
   "metadata": {},
   "outputs": [
    {
     "data": {
      "image/png": "[encoded data removed]",
      "text/plain": [
       "<Figure size 432x288 with 1 Axes>"
      ]
     },
     "metadata": {
      "needs_background": "light"
     },
     "output_type": "display_data"
    }
   ],
   "source": [
    "sns.scatterplot(data=train05, x='GDP', y='Alcohol_Consumption')\n",
    "plt.xscale('log')"
   ]
  },
  {
   "cell_type": "code",
   "execution_count": 114,
   "id": "c95d70b4",
   "metadata": {},
   "outputs": [
    {
     "data": {
      "text/html": [
       "<table class=\"simpletable\">\n",
       "<caption>OLS Regression Results</caption>\n",
       "<tr>\n",
       "  <th>Dep. Variable:</th>    <td>Alcohol_Consumption</td> <th>  R-squared:         </th> <td>   0.192</td>\n",
       "</tr>\n",
       "<tr>\n",
       "  <th>Model:</th>                    <td>OLS</td>         <th>  Adj. R-squared:    </th> <td>   0.187</td>\n",
       "</tr>\n",
       "<tr>\n",
       "  <th>Method:</th>              <td>Least Squares</td>    <th>  F-statistic:       </th> <td>   44.09</td>\n",
       "</tr>\n",
       "<tr>\n",
       "  <th>Date:</th>              <td>Sat, 04 Mar 2023</td>   <th>  Prob (F-statistic):</th> <td>3.35e-10</td>\n",
       "</tr>\n",
       "<tr>\n",
       "  <th>Time:</th>                  <td>12:01:59</td>       <th>  Log-Likelihood:    </th> <td> -532.37</td>\n",
       "</tr>\n",
       "<tr>\n",
       "  <th>No. Observations:</th>       <td>   188</td>        <th>  AIC:               </th> <td>   1069.</td>\n",
       "</tr>\n",
       "<tr>\n",
       "  <th>Df Residuals:</th>           <td>   186</td>        <th>  BIC:               </th> <td>   1075.</td>\n",
       "</tr>\n",
       "<tr>\n",
       "  <th>Df Model:</th>               <td>     1</td>        <th>                     </th>     <td> </td>   \n",
       "</tr>\n",
       "<tr>\n",
       "  <th>Covariance Type:</th>       <td>nonrobust</td>      <th>                     </th>     <td> </td>   \n",
       "</tr>\n",
       "</table>\n",
       "<table class=\"simpletable\">\n",
       "<tr>\n",
       "       <td></td>          <th>coef</th>     <th>std err</th>      <th>t</th>      <th>P>|t|</th>  <th>[0.025</th>    <th>0.975]</th>  \n",
       "</tr>\n",
       "<tr>\n",
       "  <th>Intercept</th>   <td>   -5.7336</td> <td>    1.788</td> <td>   -3.207</td> <td> 0.002</td> <td>   -9.261</td> <td>   -2.207</td>\n",
       "</tr>\n",
       "<tr>\n",
       "  <th>np.log(GDP)</th> <td>    1.3949</td> <td>    0.210</td> <td>    6.640</td> <td> 0.000</td> <td>    0.980</td> <td>    1.809</td>\n",
       "</tr>\n",
       "</table>\n",
       "<table class=\"simpletable\">\n",
       "<tr>\n",
       "  <th>Omnibus:</th>       <td> 9.832</td> <th>  Durbin-Watson:     </th> <td>   1.925</td>\n",
       "</tr>\n",
       "<tr>\n",
       "  <th>Prob(Omnibus):</th> <td> 0.007</td> <th>  Jarque-Bera (JB):  </th> <td>  10.012</td>\n",
       "</tr>\n",
       "<tr>\n",
       "  <th>Skew:</th>          <td> 0.491</td> <th>  Prob(JB):          </th> <td> 0.00670</td>\n",
       "</tr>\n",
       "<tr>\n",
       "  <th>Kurtosis:</th>      <td> 3.562</td> <th>  Cond. No.          </th> <td>    51.2</td>\n",
       "</tr>\n",
       "</table><br/><br/>Notes:<br/>[1] Standard Errors assume that the covariance matrix of the errors is correctly specified."
      ],
      "text/plain": [
       "<class 'statsmodels.iolib.summary.Summary'>\n",
       "\"\"\"\n",
       "                             OLS Regression Results                            \n",
       "===============================================================================\n",
       "Dep. Variable:     Alcohol_Consumption   R-squared:                       0.192\n",
       "Model:                             OLS   Adj. R-squared:                  0.187\n",
       "Method:                  Least Squares   F-statistic:                     44.09\n",
       "Date:                 Sat, 04 Mar 2023   Prob (F-statistic):           3.35e-10\n",
       "Time:                         12:01:59   Log-Likelihood:                -532.37\n",
       "No. Observations:                  188   AIC:                             1069.\n",
       "Df Residuals:                      186   BIC:                             1075.\n",
       "Df Model:                            1                                         \n",
       "Covariance Type:             nonrobust                                         \n",
       "===============================================================================\n",
       "                  coef    std err          t      P>|t|      [0.025      0.975]\n",
       "-------------------------------------------------------------------------------\n",
       "Intercept      -5.7336      1.788     -3.207      0.002      -9.261      -2.207\n",
       "np.log(GDP)     1.3949      0.210      6.640      0.000       0.980       1.809\n",
       "==============================================================================\n",
       "Omnibus:                        9.832   Durbin-Watson:                   1.925\n",
       "Prob(Omnibus):                  0.007   Jarque-Bera (JB):               10.012\n",
       "Skew:                           0.491   Prob(JB):                      0.00670\n",
       "Kurtosis:                       3.562   Cond. No.                         51.2\n",
       "==============================================================================\n",
       "\n",
       "Notes:\n",
       "[1] Standard Errors assume that the covariance matrix of the errors is correctly specified.\n",
       "\"\"\""
      ]
     },
     "execution_count": 114,
     "metadata": {},
     "output_type": "execute_result"
    }
   ],
   "source": [
    "model = sm.ols('Alcohol_Consumption ~ np.log(GDP)', train05).fit()\n",
    "model.summary()"
   ]
  },
  {
   "cell_type": "code",
   "execution_count": 115,
   "id": "fb58f142",
   "metadata": {},
   "outputs": [
    {
     "data": {
      "text/html": [
       "<table class=\"simpletable\">\n",
       "<caption>OLS Regression Results</caption>\n",
       "<tr>\n",
       "  <th>Dep. Variable:</th>    <td>Alcohol_Consumption</td> <th>  R-squared:         </th> <td>   0.137</td>\n",
       "</tr>\n",
       "<tr>\n",
       "  <th>Model:</th>                    <td>OLS</td>         <th>  Adj. R-squared:    </th> <td>   0.132</td>\n",
       "</tr>\n",
       "<tr>\n",
       "  <th>Method:</th>              <td>Least Squares</td>    <th>  F-statistic:       </th> <td>   29.44</td>\n",
       "</tr>\n",
       "<tr>\n",
       "  <th>Date:</th>              <td>Sat, 04 Mar 2023</td>   <th>  Prob (F-statistic):</th> <td>1.78e-07</td>\n",
       "</tr>\n",
       "<tr>\n",
       "  <th>Time:</th>                  <td>12:02:24</td>       <th>  Log-Likelihood:    </th> <td> -538.55</td>\n",
       "</tr>\n",
       "<tr>\n",
       "  <th>No. Observations:</th>       <td>   188</td>        <th>  AIC:               </th> <td>   1081.</td>\n",
       "</tr>\n",
       "<tr>\n",
       "  <th>Df Residuals:</th>           <td>   186</td>        <th>  BIC:               </th> <td>   1088.</td>\n",
       "</tr>\n",
       "<tr>\n",
       "  <th>Df Model:</th>               <td>     1</td>        <th>                     </th>     <td> </td>   \n",
       "</tr>\n",
       "<tr>\n",
       "  <th>Covariance Type:</th>       <td>nonrobust</td>      <th>                     </th>     <td> </td>   \n",
       "</tr>\n",
       "</table>\n",
       "<table class=\"simpletable\">\n",
       "<tr>\n",
       "      <td></td>         <th>coef</th>     <th>std err</th>      <th>t</th>      <th>P>|t|</th>  <th>[0.025</th>    <th>0.975]</th>  \n",
       "</tr>\n",
       "<tr>\n",
       "  <th>Intercept</th> <td>    4.8135</td> <td>    0.377</td> <td>   12.768</td> <td> 0.000</td> <td>    4.070</td> <td>    5.557</td>\n",
       "</tr>\n",
       "<tr>\n",
       "  <th>GDP</th>       <td>    0.0001</td> <td> 1.87e-05</td> <td>    5.426</td> <td> 0.000</td> <td> 6.46e-05</td> <td>    0.000</td>\n",
       "</tr>\n",
       "</table>\n",
       "<table class=\"simpletable\">\n",
       "<tr>\n",
       "  <th>Omnibus:</th>       <td>10.842</td> <th>  Durbin-Watson:     </th> <td>   1.959</td>\n",
       "</tr>\n",
       "<tr>\n",
       "  <th>Prob(Omnibus):</th> <td> 0.004</td> <th>  Jarque-Bera (JB):  </th> <td>  11.076</td>\n",
       "</tr>\n",
       "<tr>\n",
       "  <th>Skew:</th>          <td> 0.577</td> <th>  Prob(JB):          </th> <td> 0.00394</td>\n",
       "</tr>\n",
       "<tr>\n",
       "  <th>Kurtosis:</th>      <td> 3.288</td> <th>  Cond. No.          </th> <td>2.44e+04</td>\n",
       "</tr>\n",
       "</table><br/><br/>Notes:<br/>[1] Standard Errors assume that the covariance matrix of the errors is correctly specified.<br/>[2] The condition number is large, 2.44e+04. This might indicate that there are<br/>strong multicollinearity or other numerical problems."
      ],
      "text/plain": [
       "<class 'statsmodels.iolib.summary.Summary'>\n",
       "\"\"\"\n",
       "                             OLS Regression Results                            \n",
       "===============================================================================\n",
       "Dep. Variable:     Alcohol_Consumption   R-squared:                       0.137\n",
       "Model:                             OLS   Adj. R-squared:                  0.132\n",
       "Method:                  Least Squares   F-statistic:                     29.44\n",
       "Date:                 Sat, 04 Mar 2023   Prob (F-statistic):           1.78e-07\n",
       "Time:                         12:02:24   Log-Likelihood:                -538.55\n",
       "No. Observations:                  188   AIC:                             1081.\n",
       "Df Residuals:                      186   BIC:                             1088.\n",
       "Df Model:                            1                                         \n",
       "Covariance Type:             nonrobust                                         \n",
       "==============================================================================\n",
       "                 coef    std err          t      P>|t|      [0.025      0.975]\n",
       "------------------------------------------------------------------------------\n",
       "Intercept      4.8135      0.377     12.768      0.000       4.070       5.557\n",
       "GDP            0.0001   1.87e-05      5.426      0.000    6.46e-05       0.000\n",
       "==============================================================================\n",
       "Omnibus:                       10.842   Durbin-Watson:                   1.959\n",
       "Prob(Omnibus):                  0.004   Jarque-Bera (JB):               11.076\n",
       "Skew:                           0.577   Prob(JB):                      0.00394\n",
       "Kurtosis:                       3.288   Cond. No.                     2.44e+04\n",
       "==============================================================================\n",
       "\n",
       "Notes:\n",
       "[1] Standard Errors assume that the covariance matrix of the errors is correctly specified.\n",
       "[2] The condition number is large, 2.44e+04. This might indicate that there are\n",
       "strong multicollinearity or other numerical problems.\n",
       "\"\"\""
      ]
     },
     "execution_count": 115,
     "metadata": {},
     "output_type": "execute_result"
    }
   ],
   "source": [
    "model = sm.ols('Alcohol_Consumption ~ GDP', train05).fit()\n",
    "model.summary()"
   ]
  },
  {
   "cell_type": "markdown",
   "id": "963c536e",
   "metadata": {},
   "source": [
    "#### The R^2 increases by about 0.04, and visually there is a stronger linear relationship. Thus, we should use a log transformation of GDP in the final model."
   ]
  },
  {
   "cell_type": "code",
   "execution_count": 109,
   "id": "efb27216",
   "metadata": {},
   "outputs": [
    {
     "data": {
      "text/plain": [
       "Alcohol_Consumption       0.369669\n",
       "GDP                       1.000000\n",
       "Christian                 0.105535\n",
       "Muslim                   -0.169810\n",
       "Irreligion                0.354946\n",
       "Hindu                    -0.032622\n",
       "Buddhist                 -0.054418\n",
       "Folk_religion            -0.156830\n",
       "Other_religion            0.098936\n",
       "Jewish                    0.076055\n",
       "Democracy                 0.441574\n",
       "Education                 0.560661\n",
       "Wine                      0.060613\n",
       "Year                           NaN\n",
       "Depression               -0.018207\n",
       "Homicides                -0.032164\n",
       "drug_deaths_per_100000    0.520667\n",
       "Median_age                0.626984\n",
       "Population               -0.023319\n",
       "conflict_deaths          -0.041921\n",
       "deaths_to_pop_rate       -0.072208\n",
       "elec_acc_pct_pop          0.452635\n",
       "Urban_population         -0.005438\n",
       "Rural_population         -0.039506\n",
       "pct_female               -0.235802\n",
       "urban_pop_share           0.600711\n",
       "suicide_death_rate       -0.100536\n",
       "conflict_deaths_cat      -0.157926\n",
       "depression_rate           0.306222\n",
       "homicide_rate            -0.281558\n",
       "inv_hom_rate              0.674163\n",
       "dtype: float64"
      ]
     },
     "execution_count": 109,
     "metadata": {},
     "output_type": "execute_result"
    }
   ],
   "source": [
    "train05.corrwith(train05.GDP)"
   ]
  },
  {
   "cell_type": "markdown",
   "id": "357650bc",
   "metadata": {},
   "source": [
    "#### Interaction terms with democracy, education, and median age would be logical."
   ]
  },
  {
   "cell_type": "markdown",
   "id": "0081b2ca",
   "metadata": {},
   "source": [
    "### Wine"
   ]
  },
  {
   "cell_type": "markdown",
   "id": "6fa60cf3",
   "metadata": {},
   "source": [
    "Given the extremely high correlations between wine production and both rural and urban population (~0.9), there is a good chance this is a confounded variable that actually reflects a nation's population. Let's visualize the scatter plots:"
   ]
  },
  {
   "cell_type": "code",
   "execution_count": 98,
   "id": "53f03c72",
   "metadata": {},
   "outputs": [
    {
     "data": {
      "text/plain": [
       "<AxesSubplot:xlabel='Wine', ylabel='Urban_population'>"
      ]
     },
     "execution_count": 98,
     "metadata": {},
     "output_type": "execute_result"
    },
    {
     "data": {
      "image/png": "[encoded data removed]",
      "text/plain": [
       "<Figure size 432x288 with 1 Axes>"
      ]
     },
     "metadata": {
      "needs_background": "light"
     },
     "output_type": "display_data"
    }
   ],
   "source": [
    "sns.regplot(data=train05, x='Wine', y='Urban_population')\n"
   ]
  },
  {
   "cell_type": "code",
   "execution_count": 100,
   "id": "6bc3a2c9",
   "metadata": {},
   "outputs": [
    {
     "data": {
      "text/plain": [
       "<AxesSubplot:xlabel='Wine', ylabel='Rural_population'>"
      ]
     },
     "execution_count": 100,
     "metadata": {},
     "output_type": "execute_result"
    },
    {
     "data": {
      "image/png": "[encoded data removed]",
      "text/plain": [
       "<Figure size 432x288 with 1 Axes>"
      ]
     },
     "metadata": {
      "needs_background": "light"
     },
     "output_type": "display_data"
    }
   ],
   "source": [
    "sns.regplot(data=train05, x='Wine', y='Rural_population')\n"
   ]
  },
  {
   "cell_type": "markdown",
   "id": "9b60e2bd",
   "metadata": {},
   "source": [
    "Both of these variables suffer from having a vast majority of points that are extremely small in value-- for example, most countries have no wine production given climate and cultural limitations. As for population, there are a handful of countries with extremely high urban/rural populations, whereas most are concentrated in the 0-20 million range. That said, when removing outliers, we see a strong linear relationship with both rural and urban population, indicating a confounding effect of overall population on wine production (higher population countries produce more wine). "
   ]
  },
  {
   "cell_type": "code",
   "execution_count": 103,
   "id": "092a70b6",
   "metadata": {},
   "outputs": [
    {
     "data": {
      "text/plain": [
       "0.9327003097277932"
      ]
     },
     "execution_count": 103,
     "metadata": {},
     "output_type": "execute_result"
    }
   ],
   "source": [
    "train05['Wine'].corr(train05['Population'])"
   ]
  },
  {
   "cell_type": "markdown",
   "id": "3ec956f2",
   "metadata": {},
   "source": [
    "#### Thus, we will not regress with wine production. "
   ]
  },
  {
   "cell_type": "markdown",
   "id": "2d190459",
   "metadata": {},
   "source": [
    "### Religion\n"
   ]
  },
  {
   "cell_type": "markdown",
   "id": "46ed0632",
   "metadata": {},
   "source": [
    "Immediately, there will be an issue of multicollinearity if we include all of the religion variables. We need to choose a couple that will be the most useful. Subjectively, it seems that percentage of Muslim population will be a useful predictor, given that Islam prohibits drinking alcohol."
   ]
  },
  {
   "cell_type": "code",
   "execution_count": 105,
   "id": "e4c20b9d",
   "metadata": {},
   "outputs": [
    {
     "data": {
      "text/plain": [
       "<AxesSubplot:xlabel='Muslim', ylabel='Alcohol_Consumption'>"
      ]
     },
     "execution_count": 105,
     "metadata": {},
     "output_type": "execute_result"
    },
    {
     "data": {
      "image/png": "[encoded data removed]",
      "text/plain": [
       "<Figure size 432x288 with 1 Axes>"
      ]
     },
     "metadata": {
      "needs_background": "light"
     },
     "output_type": "display_data"
    }
   ],
   "source": [
    "sns.regplot(data=train05, x='Muslim', y='Alcohol_Consumption')"
   ]
  },
  {
   "cell_type": "code",
   "execution_count": 106,
   "id": "5e3a9ee0",
   "metadata": {},
   "outputs": [
    {
     "data": {
      "text/plain": [
       "<AxesSubplot:xlabel='Christian', ylabel='Alcohol_Consumption'>"
      ]
     },
     "execution_count": 106,
     "metadata": {},
     "output_type": "execute_result"
    },
    {
     "data": {
      "image/png": "[encoded data removed]",
      "text/plain": [
       "<Figure size 432x288 with 1 Axes>"
      ]
     },
     "metadata": {
      "needs_background": "light"
     },
     "output_type": "display_data"
    }
   ],
   "source": [
    "sns.regplot(data=train05, x='Christian', y='Alcohol_Consumption')"
   ]
  },
  {
   "cell_type": "markdown",
   "id": "863f3e66",
   "metadata": {},
   "source": [
    "Christianity is a slightly less useful predictor, and has less intuitive of a relationship. That said, given that there is a decently high R^2, we should include it in our variable selection techniques. "
   ]
  },
  {
   "cell_type": "markdown",
   "id": "9c0621d5",
   "metadata": {},
   "source": [
    "#### Include Christianity and Islam. "
   ]
  },
  {
   "cell_type": "markdown",
   "id": "a20b2c64",
   "metadata": {},
   "source": [
    "### Education\n"
   ]
  },
  {
   "cell_type": "markdown",
   "id": "61b2c4d1",
   "metadata": {},
   "source": [
    "Education has one of the strongest correlations with alcohol consumption. Will a transformation help?"
   ]
  },
  {
   "cell_type": "code",
   "execution_count": 107,
   "id": "e929ec5e",
   "metadata": {},
   "outputs": [
    {
     "data": {
      "text/plain": [
       "<AxesSubplot:xlabel='Education', ylabel='Alcohol_Consumption'>"
      ]
     },
     "execution_count": 107,
     "metadata": {},
     "output_type": "execute_result"
    },
    {
     "data": {
      "image/png": "[encoded data removed]",
      "text/plain": [
       "<Figure size 432x288 with 1 Axes>"
      ]
     },
     "metadata": {
      "needs_background": "light"
     },
     "output_type": "display_data"
    }
   ],
   "source": [
    "sns.regplot(data=train05, x='Education', y='Alcohol_Consumption')"
   ]
  },
  {
   "cell_type": "markdown",
   "id": "078388b1",
   "metadata": {},
   "source": [
    "There is a strong linear relationship, and a transformation does not make sense given even scatter and visually a linear trend. "
   ]
  },
  {
   "cell_type": "code",
   "execution_count": 110,
   "id": "1fef83e8",
   "metadata": {},
   "outputs": [
    {
     "data": {
      "text/plain": [
       "0.5350277630321116"
      ]
     },
     "execution_count": 110,
     "metadata": {},
     "output_type": "execute_result"
    }
   ],
   "source": [
    "train05['Education'].corr(train05['Alcohol_Consumption'])"
   ]
  },
  {
   "cell_type": "markdown",
   "id": "deed0b5d",
   "metadata": {},
   "source": [
    "#### Include education, untranformed. "
   ]
  },
  {
   "cell_type": "markdown",
   "id": "55cbdafe",
   "metadata": {},
   "source": [
    "### Democracy"
   ]
  },
  {
   "cell_type": "code",
   "execution_count": 116,
   "id": "a00c395f",
   "metadata": {},
   "outputs": [
    {
     "data": {
      "text/plain": [
       "<AxesSubplot:xlabel='Democracy', ylabel='Alcohol_Consumption'>"
      ]
     },
     "execution_count": 116,
     "metadata": {},
     "output_type": "execute_result"
    },
    {
     "data": {
      "image/png": "[encoded data removed]",
      "text/plain": [
       "<Figure size 432x288 with 1 Axes>"
      ]
     },
     "metadata": {
      "needs_background": "light"
     },
     "output_type": "display_data"
    }
   ],
   "source": [
    "sns.regplot(data=train05, x='Democracy', y='Alcohol_Consumption')"
   ]
  },
  {
   "cell_type": "code",
   "execution_count": 118,
   "id": "982b2a5f",
   "metadata": {},
   "outputs": [
    {
     "data": {
      "image/png": "[encoded data removed]",
      "text/plain": [
       "<Figure size 432x288 with 1 Axes>"
      ]
     },
     "metadata": {
      "needs_background": "light"
     },
     "output_type": "display_data"
    }
   ],
   "source": [
    "sns.scatterplot(data=train05, x='Democracy', y='Alcohol_Consumption')\n",
    "plt.xscale('log')"
   ]
  },
  {
   "cell_type": "code",
   "execution_count": 119,
   "id": "201c7432",
   "metadata": {},
   "outputs": [
    {
     "data": {
      "text/html": [
       "<table class=\"simpletable\">\n",
       "<caption>OLS Regression Results</caption>\n",
       "<tr>\n",
       "  <th>Dep. Variable:</th>    <td>Alcohol_Consumption</td> <th>  R-squared:         </th> <td>   0.216</td>\n",
       "</tr>\n",
       "<tr>\n",
       "  <th>Model:</th>                    <td>OLS</td>         <th>  Adj. R-squared:    </th> <td>   0.212</td>\n",
       "</tr>\n",
       "<tr>\n",
       "  <th>Method:</th>              <td>Least Squares</td>    <th>  F-statistic:       </th> <td>   51.18</td>\n",
       "</tr>\n",
       "<tr>\n",
       "  <th>Date:</th>              <td>Sat, 04 Mar 2023</td>   <th>  Prob (F-statistic):</th> <td>1.88e-11</td>\n",
       "</tr>\n",
       "<tr>\n",
       "  <th>Time:</th>                  <td>12:04:37</td>       <th>  Log-Likelihood:    </th> <td> -529.51</td>\n",
       "</tr>\n",
       "<tr>\n",
       "  <th>No. Observations:</th>       <td>   188</td>        <th>  AIC:               </th> <td>   1063.</td>\n",
       "</tr>\n",
       "<tr>\n",
       "  <th>Df Residuals:</th>           <td>   186</td>        <th>  BIC:               </th> <td>   1069.</td>\n",
       "</tr>\n",
       "<tr>\n",
       "  <th>Df Model:</th>               <td>     1</td>        <th>                     </th>     <td> </td>   \n",
       "</tr>\n",
       "<tr>\n",
       "  <th>Covariance Type:</th>       <td>nonrobust</td>      <th>                     </th>     <td> </td>   \n",
       "</tr>\n",
       "</table>\n",
       "<table class=\"simpletable\">\n",
       "<tr>\n",
       "      <td></td>         <th>coef</th>     <th>std err</th>      <th>t</th>      <th>P>|t|</th>  <th>[0.025</th>    <th>0.975]</th>  \n",
       "</tr>\n",
       "<tr>\n",
       "  <th>Intercept</th> <td>    2.9852</td> <td>    0.512</td> <td>    5.834</td> <td> 0.000</td> <td>    1.976</td> <td>    3.995</td>\n",
       "</tr>\n",
       "<tr>\n",
       "  <th>Democracy</th> <td>    7.7814</td> <td>    1.088</td> <td>    7.154</td> <td> 0.000</td> <td>    5.636</td> <td>    9.927</td>\n",
       "</tr>\n",
       "</table>\n",
       "<table class=\"simpletable\">\n",
       "<tr>\n",
       "  <th>Omnibus:</th>       <td>19.578</td> <th>  Durbin-Watson:     </th> <td>   1.616</td>\n",
       "</tr>\n",
       "<tr>\n",
       "  <th>Prob(Omnibus):</th> <td> 0.000</td> <th>  Jarque-Bera (JB):  </th> <td>  22.594</td>\n",
       "</tr>\n",
       "<tr>\n",
       "  <th>Skew:</th>          <td> 0.764</td> <th>  Prob(JB):          </th> <td>1.24e-05</td>\n",
       "</tr>\n",
       "<tr>\n",
       "  <th>Kurtosis:</th>      <td> 3.741</td> <th>  Cond. No.          </th> <td>    4.24</td>\n",
       "</tr>\n",
       "</table><br/><br/>Notes:<br/>[1] Standard Errors assume that the covariance matrix of the errors is correctly specified."
      ],
      "text/plain": [
       "<class 'statsmodels.iolib.summary.Summary'>\n",
       "\"\"\"\n",
       "                             OLS Regression Results                            \n",
       "===============================================================================\n",
       "Dep. Variable:     Alcohol_Consumption   R-squared:                       0.216\n",
       "Model:                             OLS   Adj. R-squared:                  0.212\n",
       "Method:                  Least Squares   F-statistic:                     51.18\n",
       "Date:                 Sat, 04 Mar 2023   Prob (F-statistic):           1.88e-11\n",
       "Time:                         12:04:37   Log-Likelihood:                -529.51\n",
       "No. Observations:                  188   AIC:                             1063.\n",
       "Df Residuals:                      186   BIC:                             1069.\n",
       "Df Model:                            1                                         \n",
       "Covariance Type:             nonrobust                                         \n",
       "==============================================================================\n",
       "                 coef    std err          t      P>|t|      [0.025      0.975]\n",
       "------------------------------------------------------------------------------\n",
       "Intercept      2.9852      0.512      5.834      0.000       1.976       3.995\n",
       "Democracy      7.7814      1.088      7.154      0.000       5.636       9.927\n",
       "==============================================================================\n",
       "Omnibus:                       19.578   Durbin-Watson:                   1.616\n",
       "Prob(Omnibus):                  0.000   Jarque-Bera (JB):               22.594\n",
       "Skew:                           0.764   Prob(JB):                     1.24e-05\n",
       "Kurtosis:                       3.741   Cond. No.                         4.24\n",
       "==============================================================================\n",
       "\n",
       "Notes:\n",
       "[1] Standard Errors assume that the covariance matrix of the errors is correctly specified.\n",
       "\"\"\""
      ]
     },
     "execution_count": 119,
     "metadata": {},
     "output_type": "execute_result"
    }
   ],
   "source": [
    "model = sm.ols('Alcohol_Consumption ~ Democracy', train05).fit()\n",
    "model.summary()"
   ]
  },
  {
   "cell_type": "code",
   "execution_count": 121,
   "id": "01a88f98",
   "metadata": {},
   "outputs": [
    {
     "data": {
      "text/html": [
       "<table class=\"simpletable\">\n",
       "<caption>OLS Regression Results</caption>\n",
       "<tr>\n",
       "  <th>Dep. Variable:</th>    <td>Alcohol_Consumption</td> <th>  R-squared:         </th> <td>   0.141</td>\n",
       "</tr>\n",
       "<tr>\n",
       "  <th>Model:</th>                    <td>OLS</td>         <th>  Adj. R-squared:    </th> <td>   0.136</td>\n",
       "</tr>\n",
       "<tr>\n",
       "  <th>Method:</th>              <td>Least Squares</td>    <th>  F-statistic:       </th> <td>   30.49</td>\n",
       "</tr>\n",
       "<tr>\n",
       "  <th>Date:</th>              <td>Sat, 04 Mar 2023</td>   <th>  Prob (F-statistic):</th> <td>1.12e-07</td>\n",
       "</tr>\n",
       "<tr>\n",
       "  <th>Time:</th>                  <td>12:05:06</td>       <th>  Log-Likelihood:    </th> <td> -538.09</td>\n",
       "</tr>\n",
       "<tr>\n",
       "  <th>No. Observations:</th>       <td>   188</td>        <th>  AIC:               </th> <td>   1080.</td>\n",
       "</tr>\n",
       "<tr>\n",
       "  <th>Df Residuals:</th>           <td>   186</td>        <th>  BIC:               </th> <td>   1087.</td>\n",
       "</tr>\n",
       "<tr>\n",
       "  <th>Df Model:</th>               <td>     1</td>        <th>                     </th>     <td> </td>   \n",
       "</tr>\n",
       "<tr>\n",
       "  <th>Covariance Type:</th>       <td>nonrobust</td>      <th>                     </th>     <td> </td>   \n",
       "</tr>\n",
       "</table>\n",
       "<table class=\"simpletable\">\n",
       "<tr>\n",
       "             <td></td>                <th>coef</th>     <th>std err</th>      <th>t</th>      <th>P>|t|</th>  <th>[0.025</th>    <th>0.975]</th>  \n",
       "</tr>\n",
       "<tr>\n",
       "  <th>Intercept</th>               <td>    8.2638</td> <td>    0.519</td> <td>   15.925</td> <td> 0.000</td> <td>    7.240</td> <td>    9.288</td>\n",
       "</tr>\n",
       "<tr>\n",
       "  <th>np.log(Democracy + 0.1)</th> <td>    2.4592</td> <td>    0.445</td> <td>    5.522</td> <td> 0.000</td> <td>    1.581</td> <td>    3.338</td>\n",
       "</tr>\n",
       "</table>\n",
       "<table class=\"simpletable\">\n",
       "<tr>\n",
       "  <th>Omnibus:</th>       <td>11.409</td> <th>  Durbin-Watson:     </th> <td>   1.629</td>\n",
       "</tr>\n",
       "<tr>\n",
       "  <th>Prob(Omnibus):</th> <td> 0.003</td> <th>  Jarque-Bera (JB):  </th> <td>  12.194</td>\n",
       "</tr>\n",
       "<tr>\n",
       "  <th>Skew:</th>          <td> 0.624</td> <th>  Prob(JB):          </th> <td> 0.00225</td>\n",
       "</tr>\n",
       "<tr>\n",
       "  <th>Kurtosis:</th>      <td> 3.029</td> <th>  Cond. No.          </th> <td>    3.05</td>\n",
       "</tr>\n",
       "</table><br/><br/>Notes:<br/>[1] Standard Errors assume that the covariance matrix of the errors is correctly specified."
      ],
      "text/plain": [
       "<class 'statsmodels.iolib.summary.Summary'>\n",
       "\"\"\"\n",
       "                             OLS Regression Results                            \n",
       "===============================================================================\n",
       "Dep. Variable:     Alcohol_Consumption   R-squared:                       0.141\n",
       "Model:                             OLS   Adj. R-squared:                  0.136\n",
       "Method:                  Least Squares   F-statistic:                     30.49\n",
       "Date:                 Sat, 04 Mar 2023   Prob (F-statistic):           1.12e-07\n",
       "Time:                         12:05:06   Log-Likelihood:                -538.09\n",
       "No. Observations:                  188   AIC:                             1080.\n",
       "Df Residuals:                      186   BIC:                             1087.\n",
       "Df Model:                            1                                         \n",
       "Covariance Type:             nonrobust                                         \n",
       "===========================================================================================\n",
       "                              coef    std err          t      P>|t|      [0.025      0.975]\n",
       "-------------------------------------------------------------------------------------------\n",
       "Intercept                   8.2638      0.519     15.925      0.000       7.240       9.288\n",
       "np.log(Democracy + 0.1)     2.4592      0.445      5.522      0.000       1.581       3.338\n",
       "==============================================================================\n",
       "Omnibus:                       11.409   Durbin-Watson:                   1.629\n",
       "Prob(Omnibus):                  0.003   Jarque-Bera (JB):               12.194\n",
       "Skew:                           0.624   Prob(JB):                      0.00225\n",
       "Kurtosis:                       3.029   Cond. No.                         3.05\n",
       "==============================================================================\n",
       "\n",
       "Notes:\n",
       "[1] Standard Errors assume that the covariance matrix of the errors is correctly specified.\n",
       "\"\"\""
      ]
     },
     "execution_count": 121,
     "metadata": {},
     "output_type": "execute_result"
    }
   ],
   "source": [
    "model = sm.ols('Alcohol_Consumption ~ np.log(Democracy+0.1)', train05).fit()\n",
    "model.summary()"
   ]
  },
  {
   "cell_type": "markdown",
   "id": "1ac529b7",
   "metadata": {},
   "source": [
    "#### A transformation of democracy does not make sense, as it reduces model R^2. Thus, we should include democracy, without a transformation. As outlined previously, interaction with democracy should be considered. "
   ]
  },
  {
   "cell_type": "code",
   "execution_count": null,
   "id": "0f21f31e",
   "metadata": {},
   "outputs": [],
   "source": []
  }
 ],
 "metadata": {
  "kernelspec": {
   "display_name": "Python 3 (ipykernel)",
   "language": "python",
   "name": "python3"
  },
  "language_info": {
   "codemirror_mode": {
    "name": "ipython",
    "version": 3
   },
   "file_extension": ".py",
   "mimetype": "text/x-python",
   "name": "python",
   "nbconvert_exporter": "python",
   "pygments_lexer": "ipython3",
   "version": "3.9.12"
  }
 },
 "nbformat": 4,
 "nbformat_minor": 5
}
