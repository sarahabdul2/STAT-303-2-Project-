{
 "cells": [
  {
   "cell_type": "code",
   "execution_count": 53,
   "id": "42aab05a",
   "metadata": {},
   "outputs": [],
   "source": [
    "import pandas as pd\n",
    "import numpy as np\n",
    "import seaborn as sns\n",
    "import matplotlib.pyplot as plt\n",
    "import statsmodels.formula.api as sm\n",
    "import itertools\n",
    "import time\n",
    "from sklearn.linear_model import Ridge, RidgeCV, Lasso, LassoCV\n",
    "from sklearn.preprocessing import StandardScaler \n",
    "from sklearn.metrics import r2_score"
   ]
  },
  {
   "cell_type": "code",
   "execution_count": 54,
   "id": "0b3a2e88",
   "metadata": {},
   "outputs": [],
   "source": [
    "train05 = pd.read_csv('data/2005_data.csv')\n",
    "train10 = pd.read_csv('data/2010_data.csv')\n",
    "train15 = pd.read_csv('data/2015_data.csv')\n",
    "test = pd.read_csv('data/Other_test.csv')\n",
    "project_data = pd.read_csv('data/Project_Data.csv')"
   ]
  },
  {
   "cell_type": "code",
   "execution_count": 55,
   "id": "53fb2276",
   "metadata": {},
   "outputs": [
    {
     "data": {
      "text/plain": [
       "Index(['Country', 'Alcohol_Consumption', 'GDP', 'Christian', 'Muslim',\n",
       "       'Irreligion', 'Hindu', 'Buddhist', 'Folk_religion', 'Other_religion',\n",
       "       'Jewish', 'Democracy', 'Education', 'Wine', 'Year', 'Depression',\n",
       "       'Homicides', 'Drug_deaths_per_100,000', 'Median_age', 'Population',\n",
       "       'conflict_deaths', 'deaths_to_pop_rate', 'elec_acc_pct_pop',\n",
       "       'Urban_population', 'Rural_population', 'pct_female', 'urban_pop_share',\n",
       "       'suicide_death_rate'],\n",
       "      dtype='object')"
      ]
     },
     "execution_count": 55,
     "metadata": {},
     "output_type": "execute_result"
    }
   ],
   "source": [
    "train05.columns"
   ]
  },
  {
   "cell_type": "code",
   "execution_count": 56,
   "id": "7d639a76",
   "metadata": {},
   "outputs": [
    {
     "data": {
      "text/plain": [
       "0         848531.0\n",
       "1          76933.0\n",
       "2        1313898.0\n",
       "3           3297.0\n",
       "4         746581.0\n",
       "          ...     \n",
       "183      2056190.0\n",
       "184    232640256.0\n",
       "185       799039.0\n",
       "186       320418.0\n",
       "187       297893.0\n",
       "Name: Depression, Length: 188, dtype: float64"
      ]
     },
     "execution_count": 56,
     "metadata": {},
     "output_type": "execute_result"
    }
   ],
   "source": [
    "train05."
   ]
  },
  {
   "cell_type": "code",
   "execution_count": null,
   "id": "55e1a3cb",
   "metadata": {},
   "outputs": [],
   "source": []
  }
 ],
 "metadata": {
  "kernelspec": {
   "display_name": "Python 3 (ipykernel)",
   "language": "python",
   "name": "python3"
  },
  "language_info": {
   "codemirror_mode": {
    "name": "ipython",
    "version": 3
   },
   "file_extension": ".py",
   "mimetype": "text/x-python",
   "name": "python",
   "nbconvert_exporter": "python",
   "pygments_lexer": "ipython3",
   "version": "3.9.13"
  }
 },
 "nbformat": 4,
 "nbformat_minor": 5
}
