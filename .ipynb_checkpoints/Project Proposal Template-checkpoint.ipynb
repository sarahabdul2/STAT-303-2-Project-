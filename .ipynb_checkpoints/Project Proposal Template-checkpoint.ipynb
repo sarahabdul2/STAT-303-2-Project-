{
 "cells": [
  {
   "cell_type": "raw",
   "id": "33dd6c4c",
   "metadata": {},
   "source": [
    "---\n",
    "title: \"Project proposal\"\n",
    "format: \n",
    "  html:\n",
    "    toc: true\n",
    "    toc-title: Contents\n",
    "    code-fold: show\n",
    "    self-contained: true\n",
    "jupyter: python3\n",
    "---"
   ]
  },
  {
   "cell_type": "markdown",
   "id": "0116f49b",
   "metadata": {},
   "source": [
    "## Instructions {-}\n",
    "\n",
    "1. Please answer the following questions as part of your project proposal.\n",
    "\n",
    "2. Write your answers in the *Markdown* cells of the Jupyter notebook. You don't need to write any code, but if you want to, you may use the *Code* cells.\n",
    "\n",
    "3. Use [Quarto](https://quarto.org/docs/output-formats/html-basics.html) to print the *.ipynb* file as HTML. You will need to open the command prompt, navigate to the directory containing the file, and use the command: `quarto render filename.ipynb --to html`. Submit the HTML file.\n",
    "\n",
    "4. The project proposal is worth 8 points, and is due on **27th January 2023 at 11:59 pm**. \n",
    "\n",
    "5. You must make one submission as a group, and not individually.\n",
    "\n",
    "6. Each team member must have at least **one commit** on the team's github repository. No points will be awarded to the team member(s) with no commits.\n",
    "\n",
    "7. Share the link of your project's GitHub repository [here](https://docs.google.com/spreadsheets/d/1khao3unpj_vsx4kOSg_Zzo77YK1UWL2w73Oa0aAirOo/edit#gid=0)."
   ]
  },
  {
   "cell_type": "markdown",
   "id": "fe7ea9bb",
   "metadata": {},
   "source": [
    "# 1) Team name\n",
    "Mention your team name.\n",
    "\n",
    "*(0 points)*"
   ]
  },
  {
   "cell_type": "markdown",
   "id": "97cc08de",
   "metadata": {},
   "source": [
    "Data Science Dudes"
   ]
  },
  {
   "cell_type": "markdown",
   "id": "16fccc9b",
   "metadata": {},
   "source": [
    "# 2) Member names\n",
    "Mention the names of your team members.\n",
    "\n",
    "*(0 points)*"
   ]
  },
  {
   "cell_type": "markdown",
   "id": "a8fff104",
   "metadata": {},
   "source": [
    "Christina Tzavara, Nathan Jung,\n",
    "Sarah Abdulwahid, Vaynu Kadiyali"
   ]
  },
  {
   "cell_type": "markdown",
   "id": "220a6528",
   "metadata": {},
   "source": [
    "# 3) Link to the GitHub repository\n",
    "Share the link of the team's project repository on GitHub.\n",
    "\n",
    "Also, put the link of your project's GitHub repository [here](https://docs.google.com/spreadsheets/d/1khao3unpj_vsx4kOSg_Zzo77YK1UWL2w73Oa0aAirOo/edit#gid=0).\n",
    "\n",
    "We believe there is no harm in having other teams view your GitHub repository. However, if you don't want anyone to see your team's work, you may make the repository *Private* and add your instructor and graduate TA as *Colloborators* in it.\n",
    "\n",
    "*(0 points)*"
   ]
  },
  {
   "cell_type": "markdown",
   "id": "b2310ae9",
   "metadata": {},
   "source": [
    "https://github.com/sarahabdul2/STAT-303-2-Project-.git"
   ]
  },
  {
   "cell_type": "markdown",
   "id": "16c1a490",
   "metadata": {},
   "source": [
    "# 4) Topic\n",
    "Mention the topic of your course project.\n",
    "\n",
    "*(0.25 points)*"
   ]
  },
  {
   "cell_type": "markdown",
   "id": "9403cdfb",
   "metadata": {},
   "source": [
    "# 5) Problem statement\n",
    "Explain the problem statement. The problem statement must include:\n",
    "\n",
    "1. The problem\n",
    "\n",
    "2. Is it a regression or classification problem or a combination of both?\n",
    "\n",
    "3. Is it an inference or prediction problem or a combination of both?\n",
    "\n",
    "4. How will you assess model accuracy?\n",
    "\n",
    "  - If it is a classification problem, then which measure(s) will you optimize for your model – precision, recall, false negative rate (FNR), accuracy, ROC-AUC etc., and why?\n",
    "  - If it is a regression problem, then which measure(s) will you optimize for your model – RMSE (Root mean squared error), MAE (mean absolute error), maximum absolute error etc., and why?\n",
    "\n",
    "5. What techniques do you think you may need to use to improve your model? If you have too many variables, some of which are  correlated or collinear, you may need to do variable selection *(techniques for variable selection that you will learn later in the course - stepwise regression, lasso, ridge regression)*. If the variables do not have a linear relationship with the response, or if some of the modeling assumptions are not satisfied, you may need to transform the predictors and/or the response (variable transformation) to obtain a better fit.\n",
    "\n",
    "*(5 points)*"
   ]
  },
  {
   "cell_type": "markdown",
   "id": "16996c49",
   "metadata": {},
   "source": [
    "We want to explore the relationships between various demographic variables, such as religious breakdown, GDP per capita, or education level in a country, and the amount of annual alcohol consumption in that country. This is a regression problem, in that we want to measure alcohol consumption, a continuous variable. Since we want to consider the effect of these predictors on the response variable, we will primarily focus on inference. We may incorporate a prediction component for future years if we are able to develop a solid-enough model and find sufficient training data.  \n",
    "\n",
    "We plan on using MAE to assess model error. We don’t want our understanding of model accuracy to be clouded by greater penalization of large errors, as this approach does not make sense in our lower-stakes context. That said, we plan to explore individual outliers to understand whether idiosyncratic factors contributed to alcohol consumption in these countries. \n",
    "\n",
    "Some techniques we may need to incorporate in our model will be interaction terms, if the effect of a certain demographic variable depends on the level of another; transformations, such as the logistic regression example we have encountered in class relating to GDP data; and variable selection, given that many of these demographic variables are related to some extent."
   ]
  },
  {
   "cell_type": "markdown",
   "id": "3eb2d4f2",
   "metadata": {},
   "source": [
    "# 6) Data sources\n",
    "\n",
    "What data sources will you use, and how will the data help answer the questions? Explain.\n",
    "\n",
    "If the data is open source, share the link of the data.\n",
    "\n",
    "*(1 point)*"
   ]
  },
  {
   "cell_type": "markdown",
   "id": "82408216",
   "metadata": {},
   "source": [
    "https://ourworldindata.org/alcohol-consumption We will be using this dataset specifically to find alcohol consumption at different points in time to create different models based off of the time periods. We will then later compare and contrast the different models to see which of them best predict alcohol consumption based on (the most) current data available.\n",
    "\n",
    "https://ourworldindata.org we will be using various datasets from this site to find and choose control and predicting demographic variables for our model to use to predict alcohol consumption from."
   ]
  },
  {
   "cell_type": "markdown",
   "id": "cb8a845f",
   "metadata": {},
   "source": [
    "# 7) Stakeholders"
   ]
  },
  {
   "cell_type": "markdown",
   "id": "d39c782c",
   "metadata": {},
   "source": [
    "Who are the stakeholders, and how will your project benefit them? Explain.\n",
    "\n",
    "Possible stakeholders interested in our project topic of alcohol consumption in each country in 2023 include manufacturers of alcoholic products, distributors, governmental bodies responsible for policy-making and regulation around alcohol sales and consumption, public health organizations, independent research institutions & researchers studying the societal or health-related impact of alcohol consumption. Additional stakeholders include investors in the alcohol industry, alcohol retailers and vendors and marketing agencies that target alcohol consumers. When it comes to how our project will benefit stakeholders, manufacturers and distributors could use our predictions and conclusions to better plan production in global markets and allocate resources/funding, whereas policy-makers would wound up more informed and able to improve their decisions around alcohol regulation and focus public health campaigns in areas where the predicted alcohol assumption is higher. Public health organizations could benefit from our project in identifying where alcohol-related health issues will arise, whereas researchers could identify new, promising areas of research. Lastly, investors could use our predictions to better inform their investment decisions, retailers/vendors to better allocate inventory & prices and marketing agencies to significantly improve their targeting through our project’s insights on different geographical regions.\n",
    "\n",
    "\n",
    "*(1 point)*"
   ]
  },
  {
   "cell_type": "markdown",
   "id": "57e41b2a",
   "metadata": {},
   "source": [
    "# 8) Results\n",
    "What kind of results do you expect? \n",
    "\n",
    "How much accuracy is required / desired in your model (based on the metric(s) chosen in question 5), such that it is useful to the stakeholders and why?\n",
    "\n",
    "**Hint:** If it is a classification model, then your model must be at least better than random classification. If it is a regression model, then your model must be at least better than trivial models, such as the one with only the intercept term.\n",
    "\n",
    "We expect many factors to affect levels of alcohol consumption including religious affiliation, cultural acceptance, level of democracy, education level, income level, GDP per capita and other socio-economic factors. We anticipate that countries with higher levels of alcohol consumption are secular (more religiously tolerant), have a culture that promotes alcohol usage, have a higher degree of democracy (more political freedom to consume), lower levels of education, have higher GDP per capita (higher consumption capabilities), and greater income level (higher financial capabilities to consume). \n",
    "\n",
    "Since our model is a Multiple Linear Regression one, we will need our model to be better than trivial, intercept-only models and so the residual sum of squares (RSS) should be quite low (and lower than the total sum of squares, TSS for a trivial, intercept-only model). However, we do not require a high degree of accuracy in our overall model since we are mostly interested in inference and exploring the relationship between each predictor and alcohol consumption in each country.\n",
    "\n",
    "\n",
    "*(0.5 point)*"
   ]
  },
  {
   "cell_type": "markdown",
   "id": "0c874b4f",
   "metadata": {},
   "source": [
    "# 9) Work-split\n",
    "How do you plan to split the project work amongst individual team members?\n",
    "\n",
    "*(0.25 point)*"
   ]
  },
  {
   "cell_type": "markdown",
   "id": "718604b0",
   "metadata": {},
   "source": [
    " We plan to all work on cleaning the datasets together. Then, we will separate and each try to find separate variables that correlate with the regression model. In our future meetings together, we will compare and contrast our different variables and construct different models to try to construct the most accurate and correct model. Most of our separate work will be done trying to code separate models based on specific variables in our datasets."
   ]
  },
  {
   "cell_type": "code",
   "execution_count": null,
   "id": "2e6221b4",
   "metadata": {},
   "outputs": [],
   "source": []
  }
 ],
 "metadata": {
  "kernelspec": {
   "display_name": "Python 3 (ipykernel)",
   "language": "python",
   "name": "python3"
  },
  "language_info": {
   "codemirror_mode": {
    "name": "ipython",
    "version": 3
   },
   "file_extension": ".py",
   "mimetype": "text/x-python",
   "name": "python",
   "nbconvert_exporter": "python",
   "pygments_lexer": "ipython3",
   "version": "3.9.12"
  }
 },
 "nbformat": 4,
 "nbformat_minor": 5
}
