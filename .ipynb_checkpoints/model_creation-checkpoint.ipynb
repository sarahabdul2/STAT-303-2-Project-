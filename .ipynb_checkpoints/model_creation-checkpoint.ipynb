{
 "cells": [
  {
   "cell_type": "code",
   "execution_count": 1,
   "id": "42aab05a",
   "metadata": {},
   "outputs": [],
   "source": [
    "import pandas as pd\n",
    "import numpy as np\n",
    "import seaborn as sns\n",
    "import matplotlib.pyplot as plt\n",
    "import statsmodels.formula.api as sm\n",
    "import itertools\n",
    "import time\n",
    "from sklearn.linear_model import Ridge, RidgeCV, Lasso, LassoCV\n",
    "from sklearn.preprocessing import StandardScaler \n",
    "from sklearn.metrics import r2_score"
   ]
  },
  {
   "cell_type": "code",
   "execution_count": 4,
   "id": "0b3a2e88",
   "metadata": {},
   "outputs": [],
   "source": [
    "train05 = pd.read_csv('data/2005_data.csv')\n",
    "train10 = pd.read_csv('data/2010_data.csv')\n",
    "train15 = pd.read_csv('data/2015_data.csv')\n",
    "test = pd.read_csv('data/Other_test.csv')\n",
    "project_data = pd.read_csv('data/Project_Data.csv')"
   ]
  },
  {
   "cell_type": "code",
   "execution_count": null,
   "id": "53fb2276",
   "metadata": {},
   "outputs": [],
   "source": [
    "hjlk;jlkj;lkj;lk;jl"
   ]
  }
 ],
 "metadata": {
  "kernelspec": {
   "display_name": "Python 3 (ipykernel)",
   "language": "python",
   "name": "python3"
  },
  "language_info": {
   "codemirror_mode": {
    "name": "ipython",
    "version": 3
   },
   "file_extension": ".py",
   "mimetype": "text/x-python",
   "name": "python",
   "nbconvert_exporter": "python",
   "pygments_lexer": "ipython3",
   "version": "3.9.12"
  }
 },
 "nbformat": 4,
 "nbformat_minor": 5
}
